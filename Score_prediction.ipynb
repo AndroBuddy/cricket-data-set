{
  "nbformat": 4,
  "nbformat_minor": 0,
  "metadata": {
    "colab": {
      "name": "Score_prediction",
      "provenance": [],
      "collapsed_sections": [],
      "authorship_tag": "ABX9TyMwWM7Z8QjZUCIXVMuJ0WNz",
      "include_colab_link": true
    },
    "kernelspec": {
      "name": "python3",
      "display_name": "Python 3"
    },
    "language_info": {
      "name": "python"
    }
  },
  "cells": [
    {
      "cell_type": "markdown",
      "metadata": {
        "id": "view-in-github",
        "colab_type": "text"
      },
      "source": [
        "<a href=\"https://colab.research.google.com/github/AndroBuddy/cricket-data-set/blob/master/Score_prediction.ipynb\" target=\"_parent\"><img src=\"https://colab.research.google.com/assets/colab-badge.svg\" alt=\"Open In Colab\"/></a>"
      ]
    },
    {
      "cell_type": "code",
      "metadata": {
        "colab": {
          "base_uri": "https://localhost:8080/"
        },
        "id": "e9vZ9QEVyQLr",
        "outputId": "64aed656-31cc-4b46-9700-d19ae37b4c2e"
      },
      "source": [
        "!git clone https://github.com/AndroBuddy/cricket-data-set.git"
      ],
      "execution_count": 1,
      "outputs": [
        {
          "output_type": "stream",
          "text": [
            "Cloning into 'cricket-data-set'...\n",
            "remote: Enumerating objects: 356, done.\u001b[K\n",
            "remote: Counting objects: 100% (356/356), done.\u001b[K\n",
            "remote: Compressing objects: 100% (346/346), done.\u001b[K\n",
            "remote: Total 356 (delta 23), reused 334 (delta 10), pack-reused 0\u001b[K\n",
            "Receiving objects: 100% (356/356), 10.25 MiB | 15.76 MiB/s, done.\n",
            "Resolving deltas: 100% (23/23), done.\n"
          ],
          "name": "stdout"
        }
      ]
    },
    {
      "cell_type": "code",
      "metadata": {
        "id": "igxddvXfySRu"
      },
      "source": [
        "import numpy as np\n",
        "import pandas as pd\n",
        "import matplotlib.pyplot as plt\n",
        "import seaborn as sns\n",
        "from sklearn.preprocessing import LabelEncoder\n",
        "from sklearn.ensemble import RandomForestClassifier\n",
        "from sklearn.linear_model import LogisticRegression\n",
        "from sklearn.model_selection import train_test_split\n",
        "from sklearn.feature_selection import RFE\n",
        "from sklearn.preprocessing import StandardScaler\n",
        "from sklearn.svm import SVC\n",
        "from sklearn.tree import DecisionTreeClassifier\n",
        "# from sklearn.metrics import confusion_matrix, classification_report"
      ],
      "execution_count": 2,
      "outputs": []
    },
    {
      "cell_type": "code",
      "metadata": {
        "colab": {
          "base_uri": "https://localhost:8080/"
        },
        "id": "lGhNGzeWK3B7",
        "outputId": "fb7da3ad-a421-4c46-c3be-c9cac04b9e5b"
      },
      "source": [
        "import pandas as pd\n",
        "import glob\n",
        "\n",
        "path = r'/content/cricket-data-set/dataset' # use your path\n",
        "all_files = glob.glob(path + \"/*.csv\")\n",
        "\n",
        "li = []\n",
        "\n",
        "for filename in all_files:\n",
        "    matches = pd.read_csv(filename, index_col=None, header=0)\n",
        "    matches[\"total_runs\"] = matches.runs_off_bat + matches.extras\n",
        "    column = pd.unique(matches[\"batting_team\"])\n",
        "    df = matches.groupby(matches[\"batting_team\"])\n",
        "    try:\n",
        "      df1 = df.get_group(column[0])\n",
        "      df2 = df.get_group(column[1])\n",
        "\n",
        "      df1[\"cumulative\"] = df1[\"total_runs\"].cumsum()\n",
        "      df2[\"cumulative\"] = df2[\"total_runs\"].cumsum()\n",
        "\n",
        "      matches = pd.concat([df1,df2])\n",
        "      li.append(matches)\n",
        "    except:\n",
        "      print(filename)\n",
        "      print(\"HELOOOOOOOOOOOOOOOOOOOOOOOOOOOOOOOOOOOOOOOOOOOO\") ## one of the files : 501265 has some error\n",
        "      continue\n",
        "\n",
        "matches = pd.concat(li, axis=0, ignore_index=True)"
      ],
      "execution_count": 3,
      "outputs": [
        {
          "output_type": "stream",
          "text": [
            "/usr/local/lib/python3.7/dist-packages/ipykernel_launcher.py:18: SettingWithCopyWarning: \n",
            "A value is trying to be set on a copy of a slice from a DataFrame.\n",
            "Try using .loc[row_indexer,col_indexer] = value instead\n",
            "\n",
            "See the caveats in the documentation: https://pandas.pydata.org/pandas-docs/stable/user_guide/indexing.html#returning-a-view-versus-a-copy\n",
            "/usr/local/lib/python3.7/dist-packages/ipykernel_launcher.py:19: SettingWithCopyWarning: \n",
            "A value is trying to be set on a copy of a slice from a DataFrame.\n",
            "Try using .loc[row_indexer,col_indexer] = value instead\n",
            "\n",
            "See the caveats in the documentation: https://pandas.pydata.org/pandas-docs/stable/user_guide/indexing.html#returning-a-view-versus-a-copy\n"
          ],
          "name": "stderr"
        },
        {
          "output_type": "stream",
          "text": [
            "/content/cricket-data-set/dataset/501265.csv\n",
            "HELOOOOOOOOOOOOOOOOOOOOOOOOOOOOOOOOOOOOOOOOOOOO\n"
          ],
          "name": "stdout"
        }
      ]
    },
    {
      "cell_type": "code",
      "metadata": {
        "id": "dJm8ztnYiDea"
      },
      "source": [
        "matches_copy = matches.copy()"
      ],
      "execution_count": 4,
      "outputs": []
    },
    {
      "cell_type": "code",
      "metadata": {
        "colab": {
          "base_uri": "https://localhost:8080/",
          "height": 609
        },
        "id": "XjFFjLd-jGZN",
        "outputId": "8e3241af-be77-4ad0-f4ff-279925c1ef8a"
      },
      "source": [
        "matches_copy"
      ],
      "execution_count": 5,
      "outputs": [
        {
          "output_type": "execute_result",
          "data": {
            "text/html": [
              "<div>\n",
              "<style scoped>\n",
              "    .dataframe tbody tr th:only-of-type {\n",
              "        vertical-align: middle;\n",
              "    }\n",
              "\n",
              "    .dataframe tbody tr th {\n",
              "        vertical-align: top;\n",
              "    }\n",
              "\n",
              "    .dataframe thead th {\n",
              "        text-align: right;\n",
              "    }\n",
              "</style>\n",
              "<table border=\"1\" class=\"dataframe\">\n",
              "  <thead>\n",
              "    <tr style=\"text-align: right;\">\n",
              "      <th></th>\n",
              "      <th>match_id</th>\n",
              "      <th>season</th>\n",
              "      <th>start_date</th>\n",
              "      <th>venue</th>\n",
              "      <th>innings</th>\n",
              "      <th>ball</th>\n",
              "      <th>batting_team</th>\n",
              "      <th>bowling_team</th>\n",
              "      <th>striker</th>\n",
              "      <th>non_striker</th>\n",
              "      <th>bowler</th>\n",
              "      <th>runs_off_bat</th>\n",
              "      <th>extras</th>\n",
              "      <th>wides</th>\n",
              "      <th>noballs</th>\n",
              "      <th>byes</th>\n",
              "      <th>legbyes</th>\n",
              "      <th>penalty</th>\n",
              "      <th>wicket_type</th>\n",
              "      <th>player_dismissed</th>\n",
              "      <th>other_wicket_type</th>\n",
              "      <th>other_player_dismissed</th>\n",
              "      <th>total_runs</th>\n",
              "      <th>cumulative</th>\n",
              "    </tr>\n",
              "  </thead>\n",
              "  <tbody>\n",
              "    <tr>\n",
              "      <th>0</th>\n",
              "      <td>419132</td>\n",
              "      <td>2009/10</td>\n",
              "      <td>2010-03-30</td>\n",
              "      <td>Brabourne Stadium</td>\n",
              "      <td>1</td>\n",
              "      <td>0.1</td>\n",
              "      <td>Kings XI Punjab</td>\n",
              "      <td>Mumbai Indians</td>\n",
              "      <td>RS Bopara</td>\n",
              "      <td>SE Marsh</td>\n",
              "      <td>R McLaren</td>\n",
              "      <td>0</td>\n",
              "      <td>0</td>\n",
              "      <td>NaN</td>\n",
              "      <td>NaN</td>\n",
              "      <td>NaN</td>\n",
              "      <td>NaN</td>\n",
              "      <td>NaN</td>\n",
              "      <td>NaN</td>\n",
              "      <td>NaN</td>\n",
              "      <td>NaN</td>\n",
              "      <td>NaN</td>\n",
              "      <td>0</td>\n",
              "      <td>0</td>\n",
              "    </tr>\n",
              "    <tr>\n",
              "      <th>1</th>\n",
              "      <td>419132</td>\n",
              "      <td>2009/10</td>\n",
              "      <td>2010-03-30</td>\n",
              "      <td>Brabourne Stadium</td>\n",
              "      <td>1</td>\n",
              "      <td>0.2</td>\n",
              "      <td>Kings XI Punjab</td>\n",
              "      <td>Mumbai Indians</td>\n",
              "      <td>RS Bopara</td>\n",
              "      <td>SE Marsh</td>\n",
              "      <td>R McLaren</td>\n",
              "      <td>1</td>\n",
              "      <td>0</td>\n",
              "      <td>NaN</td>\n",
              "      <td>NaN</td>\n",
              "      <td>NaN</td>\n",
              "      <td>NaN</td>\n",
              "      <td>NaN</td>\n",
              "      <td>NaN</td>\n",
              "      <td>NaN</td>\n",
              "      <td>NaN</td>\n",
              "      <td>NaN</td>\n",
              "      <td>1</td>\n",
              "      <td>1</td>\n",
              "    </tr>\n",
              "    <tr>\n",
              "      <th>2</th>\n",
              "      <td>419132</td>\n",
              "      <td>2009/10</td>\n",
              "      <td>2010-03-30</td>\n",
              "      <td>Brabourne Stadium</td>\n",
              "      <td>1</td>\n",
              "      <td>0.3</td>\n",
              "      <td>Kings XI Punjab</td>\n",
              "      <td>Mumbai Indians</td>\n",
              "      <td>SE Marsh</td>\n",
              "      <td>RS Bopara</td>\n",
              "      <td>R McLaren</td>\n",
              "      <td>0</td>\n",
              "      <td>0</td>\n",
              "      <td>NaN</td>\n",
              "      <td>NaN</td>\n",
              "      <td>NaN</td>\n",
              "      <td>NaN</td>\n",
              "      <td>NaN</td>\n",
              "      <td>NaN</td>\n",
              "      <td>NaN</td>\n",
              "      <td>NaN</td>\n",
              "      <td>NaN</td>\n",
              "      <td>0</td>\n",
              "      <td>1</td>\n",
              "    </tr>\n",
              "    <tr>\n",
              "      <th>3</th>\n",
              "      <td>419132</td>\n",
              "      <td>2009/10</td>\n",
              "      <td>2010-03-30</td>\n",
              "      <td>Brabourne Stadium</td>\n",
              "      <td>1</td>\n",
              "      <td>0.4</td>\n",
              "      <td>Kings XI Punjab</td>\n",
              "      <td>Mumbai Indians</td>\n",
              "      <td>SE Marsh</td>\n",
              "      <td>RS Bopara</td>\n",
              "      <td>R McLaren</td>\n",
              "      <td>0</td>\n",
              "      <td>0</td>\n",
              "      <td>NaN</td>\n",
              "      <td>NaN</td>\n",
              "      <td>NaN</td>\n",
              "      <td>NaN</td>\n",
              "      <td>NaN</td>\n",
              "      <td>NaN</td>\n",
              "      <td>NaN</td>\n",
              "      <td>NaN</td>\n",
              "      <td>NaN</td>\n",
              "      <td>0</td>\n",
              "      <td>1</td>\n",
              "    </tr>\n",
              "    <tr>\n",
              "      <th>4</th>\n",
              "      <td>419132</td>\n",
              "      <td>2009/10</td>\n",
              "      <td>2010-03-30</td>\n",
              "      <td>Brabourne Stadium</td>\n",
              "      <td>1</td>\n",
              "      <td>0.5</td>\n",
              "      <td>Kings XI Punjab</td>\n",
              "      <td>Mumbai Indians</td>\n",
              "      <td>SE Marsh</td>\n",
              "      <td>RS Bopara</td>\n",
              "      <td>R McLaren</td>\n",
              "      <td>4</td>\n",
              "      <td>0</td>\n",
              "      <td>NaN</td>\n",
              "      <td>NaN</td>\n",
              "      <td>NaN</td>\n",
              "      <td>NaN</td>\n",
              "      <td>NaN</td>\n",
              "      <td>NaN</td>\n",
              "      <td>NaN</td>\n",
              "      <td>NaN</td>\n",
              "      <td>NaN</td>\n",
              "      <td>4</td>\n",
              "      <td>5</td>\n",
              "    </tr>\n",
              "    <tr>\n",
              "      <th>...</th>\n",
              "      <td>...</td>\n",
              "      <td>...</td>\n",
              "      <td>...</td>\n",
              "      <td>...</td>\n",
              "      <td>...</td>\n",
              "      <td>...</td>\n",
              "      <td>...</td>\n",
              "      <td>...</td>\n",
              "      <td>...</td>\n",
              "      <td>...</td>\n",
              "      <td>...</td>\n",
              "      <td>...</td>\n",
              "      <td>...</td>\n",
              "      <td>...</td>\n",
              "      <td>...</td>\n",
              "      <td>...</td>\n",
              "      <td>...</td>\n",
              "      <td>...</td>\n",
              "      <td>...</td>\n",
              "      <td>...</td>\n",
              "      <td>...</td>\n",
              "      <td>...</td>\n",
              "      <td>...</td>\n",
              "      <td>...</td>\n",
              "    </tr>\n",
              "    <tr>\n",
              "      <th>75125</th>\n",
              "      <td>501256</td>\n",
              "      <td>2011</td>\n",
              "      <td>2011-05-14</td>\n",
              "      <td>Wankhede Stadium</td>\n",
              "      <td>2</td>\n",
              "      <td>19.4</td>\n",
              "      <td>Mumbai Indians</td>\n",
              "      <td>Deccan Chargers</td>\n",
              "      <td>KA Pollard</td>\n",
              "      <td>Harbhajan Singh</td>\n",
              "      <td>Anand Rajan</td>\n",
              "      <td>4</td>\n",
              "      <td>0</td>\n",
              "      <td>NaN</td>\n",
              "      <td>NaN</td>\n",
              "      <td>NaN</td>\n",
              "      <td>NaN</td>\n",
              "      <td>NaN</td>\n",
              "      <td>NaN</td>\n",
              "      <td>NaN</td>\n",
              "      <td>NaN</td>\n",
              "      <td>NaN</td>\n",
              "      <td>4</td>\n",
              "      <td>123</td>\n",
              "    </tr>\n",
              "    <tr>\n",
              "      <th>75126</th>\n",
              "      <td>501256</td>\n",
              "      <td>2011</td>\n",
              "      <td>2011-05-14</td>\n",
              "      <td>Wankhede Stadium</td>\n",
              "      <td>2</td>\n",
              "      <td>19.5</td>\n",
              "      <td>Mumbai Indians</td>\n",
              "      <td>Deccan Chargers</td>\n",
              "      <td>KA Pollard</td>\n",
              "      <td>Harbhajan Singh</td>\n",
              "      <td>Anand Rajan</td>\n",
              "      <td>0</td>\n",
              "      <td>0</td>\n",
              "      <td>NaN</td>\n",
              "      <td>NaN</td>\n",
              "      <td>NaN</td>\n",
              "      <td>NaN</td>\n",
              "      <td>NaN</td>\n",
              "      <td>caught</td>\n",
              "      <td>KA Pollard</td>\n",
              "      <td>NaN</td>\n",
              "      <td>NaN</td>\n",
              "      <td>0</td>\n",
              "      <td>123</td>\n",
              "    </tr>\n",
              "    <tr>\n",
              "      <th>75127</th>\n",
              "      <td>501256</td>\n",
              "      <td>2011</td>\n",
              "      <td>2011-05-14</td>\n",
              "      <td>Wankhede Stadium</td>\n",
              "      <td>2</td>\n",
              "      <td>19.6</td>\n",
              "      <td>Mumbai Indians</td>\n",
              "      <td>Deccan Chargers</td>\n",
              "      <td>Harbhajan Singh</td>\n",
              "      <td>SL Malinga</td>\n",
              "      <td>Anand Rajan</td>\n",
              "      <td>0</td>\n",
              "      <td>1</td>\n",
              "      <td>1.0</td>\n",
              "      <td>NaN</td>\n",
              "      <td>NaN</td>\n",
              "      <td>NaN</td>\n",
              "      <td>NaN</td>\n",
              "      <td>NaN</td>\n",
              "      <td>NaN</td>\n",
              "      <td>NaN</td>\n",
              "      <td>NaN</td>\n",
              "      <td>1</td>\n",
              "      <td>124</td>\n",
              "    </tr>\n",
              "    <tr>\n",
              "      <th>75128</th>\n",
              "      <td>501256</td>\n",
              "      <td>2011</td>\n",
              "      <td>2011-05-14</td>\n",
              "      <td>Wankhede Stadium</td>\n",
              "      <td>2</td>\n",
              "      <td>19.7</td>\n",
              "      <td>Mumbai Indians</td>\n",
              "      <td>Deccan Chargers</td>\n",
              "      <td>Harbhajan Singh</td>\n",
              "      <td>SL Malinga</td>\n",
              "      <td>Anand Rajan</td>\n",
              "      <td>1</td>\n",
              "      <td>0</td>\n",
              "      <td>NaN</td>\n",
              "      <td>NaN</td>\n",
              "      <td>NaN</td>\n",
              "      <td>NaN</td>\n",
              "      <td>NaN</td>\n",
              "      <td>run out</td>\n",
              "      <td>SL Malinga</td>\n",
              "      <td>NaN</td>\n",
              "      <td>NaN</td>\n",
              "      <td>1</td>\n",
              "      <td>125</td>\n",
              "    </tr>\n",
              "    <tr>\n",
              "      <th>75129</th>\n",
              "      <td>501256</td>\n",
              "      <td>2011</td>\n",
              "      <td>2011-05-14</td>\n",
              "      <td>Wankhede Stadium</td>\n",
              "      <td>2</td>\n",
              "      <td>19.8</td>\n",
              "      <td>Mumbai Indians</td>\n",
              "      <td>Deccan Chargers</td>\n",
              "      <td>Harbhajan Singh</td>\n",
              "      <td>DS Kulkarni</td>\n",
              "      <td>Anand Rajan</td>\n",
              "      <td>0</td>\n",
              "      <td>0</td>\n",
              "      <td>NaN</td>\n",
              "      <td>NaN</td>\n",
              "      <td>NaN</td>\n",
              "      <td>NaN</td>\n",
              "      <td>NaN</td>\n",
              "      <td>NaN</td>\n",
              "      <td>NaN</td>\n",
              "      <td>NaN</td>\n",
              "      <td>NaN</td>\n",
              "      <td>0</td>\n",
              "      <td>125</td>\n",
              "    </tr>\n",
              "  </tbody>\n",
              "</table>\n",
              "<p>75130 rows × 24 columns</p>\n",
              "</div>"
            ],
            "text/plain": [
              "       match_id   season  ... total_runs cumulative\n",
              "0        419132  2009/10  ...          0          0\n",
              "1        419132  2009/10  ...          1          1\n",
              "2        419132  2009/10  ...          0          1\n",
              "3        419132  2009/10  ...          0          1\n",
              "4        419132  2009/10  ...          4          5\n",
              "...         ...      ...  ...        ...        ...\n",
              "75125    501256     2011  ...          4        123\n",
              "75126    501256     2011  ...          0        123\n",
              "75127    501256     2011  ...          1        124\n",
              "75128    501256     2011  ...          1        125\n",
              "75129    501256     2011  ...          0        125\n",
              "\n",
              "[75130 rows x 24 columns]"
            ]
          },
          "metadata": {
            "tags": []
          },
          "execution_count": 5
        }
      ]
    },
    {
      "cell_type": "code",
      "metadata": {
        "colab": {
          "base_uri": "https://localhost:8080/",
          "height": 35
        },
        "id": "XhYKH_C-LPD7",
        "outputId": "fdf6dec6-b31b-4d11-d4cd-d53efca3139b"
      },
      "source": [
        "matches.season.iloc[0]"
      ],
      "execution_count": 6,
      "outputs": [
        {
          "output_type": "execute_result",
          "data": {
            "application/vnd.google.colaboratory.intrinsic+json": {
              "type": "string"
            },
            "text/plain": [
              "'2009/10'"
            ]
          },
          "metadata": {
            "tags": []
          },
          "execution_count": 6
        }
      ]
    },
    {
      "cell_type": "code",
      "metadata": {
        "id": "sTnsM0nizMzy"
      },
      "source": [
        "matches  = matches.drop(columns = [\"season\" , \"match_id\" , \"start_date\" , \"wicket_type\" , \"player_dismissed\" , \"other_wicket_type\" , \"other_player_dismissed\"])"
      ],
      "execution_count": 7,
      "outputs": []
    },
    {
      "cell_type": "code",
      "metadata": {
        "id": "A--CurizY4Lc"
      },
      "source": [
        "matches  = matches.drop(columns = [\"runs_off_bat\" , \"extras\" , \"wides\" , \"noballs\" , \"byes\" , \"legbyes\" , \"penalty\"])"
      ],
      "execution_count": 8,
      "outputs": []
    },
    {
      "cell_type": "code",
      "metadata": {
        "colab": {
          "base_uri": "https://localhost:8080/"
        },
        "id": "cSiDDkrgyq1t",
        "outputId": "85f836bd-e849-4f47-e740-4eadcae92526"
      },
      "source": [
        "matches.columns"
      ],
      "execution_count": 9,
      "outputs": [
        {
          "output_type": "execute_result",
          "data": {
            "text/plain": [
              "Index(['venue', 'innings', 'ball', 'batting_team', 'bowling_team', 'striker',\n",
              "       'non_striker', 'bowler', 'total_runs', 'cumulative'],\n",
              "      dtype='object')"
            ]
          },
          "metadata": {
            "tags": []
          },
          "execution_count": 9
        }
      ]
    },
    {
      "cell_type": "code",
      "metadata": {
        "colab": {
          "base_uri": "https://localhost:8080/"
        },
        "id": "OaRf9_BNdV5i",
        "outputId": "0833827c-8837-4c80-fb60-8f95939a74fe"
      },
      "source": [
        "pd.unique(matches[\"venue\"])"
      ],
      "execution_count": 10,
      "outputs": [
        {
          "output_type": "execute_result",
          "data": {
            "text/plain": [
              "array(['Brabourne Stadium', 'Dr DY Patil Sports Academy',\n",
              "       'OUTsurance Oval', 'Wankhede Stadium',\n",
              "       'Rajiv Gandhi International Stadium',\n",
              "       'Punjab Cricket Association Stadium, Mohali', \"St George's Park\",\n",
              "       'MA Chidambaram Stadium',\n",
              "       'Dr. Y.S. Rajasekhara Reddy ACA-VDCA Cricket Stadium',\n",
              "       'Eden Gardens', 'Himachal Pradesh Cricket Association Stadium',\n",
              "       'Subrata Roy Sahara Stadium', 'Kingsmead', 'Buffalo Park',\n",
              "       'Vidarbha Cricket Association Stadium, Jamtha',\n",
              "       'M Chinnaswamy Stadium', 'Feroz Shah Kotla',\n",
              "       'Sawai Mansingh Stadium', 'New Wanderers Stadium', 'Newlands',\n",
              "       'Barabati Stadium', 'SuperSport Park',\n",
              "       'Sardar Patel Stadium, Motera', 'Holkar Cricket Stadium',\n",
              "       'Nehru Stadium', 'De Beers Diamond Oval'], dtype=object)"
            ]
          },
          "metadata": {
            "tags": []
          },
          "execution_count": 10
        }
      ]
    },
    {
      "cell_type": "code",
      "metadata": {
        "id": "4hr6LpVzlOuI"
      },
      "source": [
        "current_teams = ['Kolkata Knight Riders', 'Chennai Super Kings', 'Rajasthan Royals', 'Mumbai Indians', 'Kings XI Punjab', 'Royal Challengers Bangalore', 'Delhi Daredevils', 'Sunrisers Hyderabad']"
      ],
      "execution_count": 11,
      "outputs": []
    },
    {
      "cell_type": "code",
      "metadata": {
        "id": "YdiyiZeolTF4"
      },
      "source": [
        "matches = matches[(matches['batting_team'].isin(current_teams)) & (matches['bowling_team'].isin(current_teams))]"
      ],
      "execution_count": 12,
      "outputs": []
    },
    {
      "cell_type": "code",
      "metadata": {
        "colab": {
          "base_uri": "https://localhost:8080/"
        },
        "id": "rd7hthJplW5j",
        "outputId": "ed41ac83-dfbf-41f3-ebfa-c6cc2374c6d7"
      },
      "source": [
        "pd.unique(matches[\"batting_team\"])"
      ],
      "execution_count": 13,
      "outputs": [
        {
          "output_type": "execute_result",
          "data": {
            "text/plain": [
              "array(['Kings XI Punjab', 'Mumbai Indians', 'Delhi Daredevils',\n",
              "       'Royal Challengers Bangalore', 'Rajasthan Royals',\n",
              "       'Kolkata Knight Riders', 'Chennai Super Kings'], dtype=object)"
            ]
          },
          "metadata": {
            "tags": []
          },
          "execution_count": 13
        }
      ]
    },
    {
      "cell_type": "code",
      "metadata": {
        "colab": {
          "base_uri": "https://localhost:8080/"
        },
        "id": "dtmVZniYliHo",
        "outputId": "c4795a2e-03f7-40a0-ae16-bb6a4ea7e52a"
      },
      "source": [
        "matches.columns"
      ],
      "execution_count": 14,
      "outputs": [
        {
          "output_type": "execute_result",
          "data": {
            "text/plain": [
              "Index(['venue', 'innings', 'ball', 'batting_team', 'bowling_team', 'striker',\n",
              "       'non_striker', 'bowler', 'total_runs', 'cumulative'],\n",
              "      dtype='object')"
            ]
          },
          "metadata": {
            "tags": []
          },
          "execution_count": 14
        }
      ]
    },
    {
      "cell_type": "code",
      "metadata": {
        "id": "pcGkVv0E1BN8"
      },
      "source": [
        "##Un comment only if you need to use a new Label Encoder\n",
        "## Since we already have saved the encoders , we will use those.\n",
        "\n",
        "# venue_encoder = LabelEncoder()\n",
        "# matches[\"venue\"] = venue_encoder.fit_transform(matches[\"venue\"])\n",
        "# batting_team_encoder = LabelEncoder()\n",
        "# matches[\"batting_team\"] = batting_team_encoder.fit_transform(matches[\"batting_team\"])\n",
        "# bowling_team_encoder = LabelEncoder()\n",
        "# matches[\"bowling_team\"] = bowling_team_encoder.fit_transform(matches[\"bowling_team\"])\n",
        "# striker_encoder = LabelEncoder()\n",
        "# matches[\"striker\"] = striker_encoder.fit_transform(matches[\"striker\"])\n",
        "# non_striker_encoder = LabelEncoder()\n",
        "# matches[\"non_striker\"] = non_striker_encoder.fit_transform(matches[\"non_striker\"])\n",
        "# bowler_encoder = LabelEncoder()\n",
        "# matches[\"bowler\"] = bowler_encoder.fit_transform(matches[\"bowler\"])"
      ],
      "execution_count": 15,
      "outputs": []
    },
    {
      "cell_type": "code",
      "metadata": {
        "id": "D0kb_MEwlL_c"
      },
      "source": [
        "## Loading the preloaded encoders\n",
        "\n",
        "import joblib\n",
        "\n",
        "with open(\"/content/cricket-data-set/LabelEncoder Files/venue_encoder.joblib\" , \"rb\" ) as f:\n",
        "  venue_encoder = joblib.load(f)\n",
        "\n",
        "with open(\"/content/cricket-data-set/LabelEncoder Files/batting_team_encoder.joblib\" , \"rb\" ) as f:\n",
        "  batting_team_encoder = joblib.load(f)\n",
        "\n",
        "\n",
        "with open(\"/content/cricket-data-set/LabelEncoder Files/bowling_team_encoder.joblib\" , \"rb\" ) as f:\n",
        "  bowling_team_encoder = joblib.load(f)\n",
        "\n",
        "with open(\"/content/cricket-data-set/LabelEncoder Files/striker_encoder .joblib\" , \"rb\" ) as f:\n",
        "  striker_encoder = joblib.load(f)\n",
        "\n",
        "\n",
        "with open(\"/content/cricket-data-set/LabelEncoder Files/non_striker_encoder .joblib\" , \"rb\" ) as f:\n",
        "  non_striker_encoder  = joblib.load(f)\n",
        "\n",
        "\n",
        "with open(\"/content/cricket-data-set/LabelEncoder Files/bowler_encoder.joblib\" , \"rb\" ) as f:\n",
        "  bowler_encoder = joblib.load(f)\n",
        "\n",
        "\n",
        "\n",
        "\n",
        "matches[\"venue\"] = venue_encoder.transform(matches[\"venue\"])\n",
        "matches[\"batting_team\"] = batting_team_encoder.transform(matches[\"batting_team\"])\n",
        "matches[\"bowling_team\"] = bowling_team_encoder.transform(matches[\"bowling_team\"])\n",
        "matches[\"striker\"] = striker_encoder.transform(matches[\"striker\"])\n",
        "matches[\"non_striker\"] = non_striker_encoder.transform(matches[\"non_striker\"])\n",
        "matches[\"bowler\"] = bowler_encoder.transform(matches[\"bowler\"])"
      ],
      "execution_count": 16,
      "outputs": []
    },
    {
      "cell_type": "code",
      "metadata": {
        "colab": {
          "base_uri": "https://localhost:8080/"
        },
        "id": "D8gQDmbPe3iW",
        "outputId": "71be6f76-80d9-4fe8-94ae-1e9ce53cd1fb"
      },
      "source": [
        "matches.columns"
      ],
      "execution_count": 17,
      "outputs": [
        {
          "output_type": "execute_result",
          "data": {
            "text/plain": [
              "Index(['venue', 'innings', 'ball', 'batting_team', 'bowling_team', 'striker',\n",
              "       'non_striker', 'bowler', 'total_runs', 'cumulative'],\n",
              "      dtype='object')"
            ]
          },
          "metadata": {
            "tags": []
          },
          "execution_count": 17
        }
      ]
    },
    {
      "cell_type": "code",
      "metadata": {
        "id": "oREgU0YX1xc3"
      },
      "source": [
        ""
      ],
      "execution_count": 17,
      "outputs": []
    },
    {
      "cell_type": "code",
      "metadata": {
        "colab": {
          "base_uri": "https://localhost:8080/"
        },
        "id": "qVQqM2vANQQ0",
        "outputId": "f4d08a6f-425d-4c82-b9ba-97c70261fea6"
      },
      "source": [
        "matches_copy['count'] = 1\n",
        "matches_copy.groupby(['venue']).count()['count']"
      ],
      "execution_count": 18,
      "outputs": [
        {
          "output_type": "execute_result",
          "data": {
            "text/plain": [
              "venue\n",
              "Barabati Stadium                                        973\n",
              "Brabourne Stadium                                      1720\n",
              "Buffalo Park                                            715\n",
              "De Beers Diamond Oval                                   726\n",
              "Dr DY Patil Sports Academy                             3993\n",
              "Dr. Y.S. Rajasekhara Reddy ACA-VDCA Cricket Stadium     476\n",
              "Eden Gardens                                           6451\n",
              "Feroz Shah Kotla                                       6160\n",
              "Himachal Pradesh Cricket Association Stadium           1673\n",
              "Holkar Cricket Stadium                                  408\n",
              "Kingsmead                                              3643\n",
              "M Chinnaswamy Stadium                                  6398\n",
              "MA Chidambaram Stadium                        8050\n",
              "Nehru Stadium                                          1155\n",
              "New Wanderers Stadium                                  1940\n",
              "Newlands                                               1539\n",
              "OUTsurance Oval                                         500\n",
              "Punjab Cricket Association Stadium, Mohali             5043\n",
              "Rajiv Gandhi International Stadium              4344\n",
              "Sardar Patel Stadium, Motera                            945\n",
              "Sawai Mansingh Stadium                                 5709\n",
              "St George's Park                                       1677\n",
              "Subrata Roy Sahara Stadium                             2165\n",
              "SuperSport Park                                        2866\n",
              "Vidarbha Cricket Association Stadium, Jamtha            742\n",
              "Wankhede Stadium                                       5119\n",
              "Name: count, dtype: int64"
            ]
          },
          "metadata": {
            "tags": []
          },
          "execution_count": 18
        }
      ]
    },
    {
      "cell_type": "code",
      "metadata": {
        "colab": {
          "base_uri": "https://localhost:8080/"
        },
        "id": "wKXCm_z83RbI",
        "outputId": "65e5dd01-464a-41c1-b7eb-bbabcc14e9df"
      },
      "source": [
        "matches.columns"
      ],
      "execution_count": 19,
      "outputs": [
        {
          "output_type": "execute_result",
          "data": {
            "text/plain": [
              "Index(['venue', 'innings', 'ball', 'batting_team', 'bowling_team', 'striker',\n",
              "       'non_striker', 'bowler', 'total_runs', 'cumulative'],\n",
              "      dtype='object')"
            ]
          },
          "metadata": {
            "tags": []
          },
          "execution_count": 19
        }
      ]
    },
    {
      "cell_type": "code",
      "metadata": {
        "id": "E3iNrwN3i6iM"
      },
      "source": [
        "matches = matches[matches[\"ball\"] < 6]"
      ],
      "execution_count": 20,
      "outputs": []
    },
    {
      "cell_type": "code",
      "metadata": {
        "id": "uzTo-bTt3Mvg"
      },
      "source": [
        "##Standardisation\n",
        "\n",
        "# matches[\"venue\"] = matches[\"venue\"] / max(matches[\"venue\"])\n",
        "# # matches[\"ball\"] = matches[\"ball\"] / 6\n",
        "# matches[\"batting_team\"] = matches_copy[\"batting_team\"] / max(matches[\"batting_team\"])\n",
        "# matches[\"bowling_team\"] = matches[\"bowling_team\"] / max(matches[\"bowling_team\"])\n",
        "# matches[\"striker\"] = matches[\"striker\"] / max(matches[\"striker\"])\n",
        "# matches[\"non_striker\"] = matches[\"non_striker\"] / max(matches[\"non_striker\"])\n",
        "# # matches[\"cumulative\"] = matches[\"cumulative\"] / max(matches[\"cumulative\"])"
      ],
      "execution_count": 21,
      "outputs": []
    },
    {
      "cell_type": "code",
      "metadata": {
        "colab": {
          "base_uri": "https://localhost:8080/"
        },
        "id": "bCWY2HND4p7I",
        "outputId": "6360e43b-6636-4f3a-f778-1626892ea825"
      },
      "source": [
        "matches_copy[matches_copy[\"ball\"] < 6][\"cumulative\"]"
      ],
      "execution_count": 22,
      "outputs": [
        {
          "output_type": "execute_result",
          "data": {
            "text/plain": [
              "34       47\n",
              "162      43\n",
              "287      27\n",
              "399      32\n",
              "485      37\n",
              "         ..\n",
              "74568    42\n",
              "74670    50\n",
              "74793    29\n",
              "74915    31\n",
              "75037    26\n",
              "Name: cumulative, Length: 630, dtype: int64"
            ]
          },
          "metadata": {
            "tags": []
          },
          "execution_count": 22
        }
      ]
    },
    {
      "cell_type": "code",
      "metadata": {
        "id": "PegGpOy6QBBF"
      },
      "source": [
        "# matches[matches_copy[\"ball\"] == 5.5][\"cumulative\"]*246"
      ],
      "execution_count": 23,
      "outputs": []
    },
    {
      "cell_type": "code",
      "metadata": {
        "id": "1mFxPr9nWEHG"
      },
      "source": [
        "# features = [\"venue\" , \"innings\" , \"ball\" , \"batting_team\" , \"bowling_team\" , \"striker\" , \"non_striker\" , \"bowler\" , \"total_runs\" , \"cumulative\"]\n",
        "# features = [\"venue\" , \"innings\" , \"ball\" , \"batting_team\" , \"bowling_team\"]\n",
        "\n",
        "\n",
        "features = [\"innings\" , \"ball\" , \"striker\" , \"bowler\" , \"non_striker\"]\n",
        "\n",
        "\n",
        "features = [\"ball\" , \"striker\" , \"bowler\" , \"non_striker\" , \"total_runs\"]\n",
        "\n",
        "\n",
        "features = [\"innings\" , \"ball\" , \"striker\" , \"bowler\" , \"non_striker\" , \"total_runs\"]\n",
        "\n",
        "\n",
        "features = [\"innings\" , \"ball\" , \"batting_team\" , \"bowling_team\" , \"striker\" , \"bowler\"]\n",
        "\n",
        "\n",
        "features = [\"venue\" , \"innings\" , \"ball\" , \"batting_team\" , \"bowling_team\" , \"striker\" , \"non_striker\" , \"bowler\" , \"total_runs\"]\n",
        "\n",
        "\n",
        "# features = [\"innings\" , \"ball\" , \"striker\" , \"bowler\" , \"non_striker\"]\n",
        "\n",
        "\n",
        "# features = [\"innings\" , \"ball\" , \"striker\" , \"bowler\" , \"non_striker\"]\n",
        "\n",
        "\n",
        "\n",
        "# features = [ \"innings\" , \"ball\" , \"total_runs\"]"
      ],
      "execution_count": 24,
      "outputs": []
    },
    {
      "cell_type": "code",
      "metadata": {
        "id": "C96nW-snpgzH"
      },
      "source": [
        "## venue , first 6 strikers , first 6 bowlers , Betting team and bowling team"
      ],
      "execution_count": null,
      "outputs": []
    },
    {
      "cell_type": "code",
      "metadata": {
        "id": "bMILZ85s14rN"
      },
      "source": [
        "x_train, x_test, y_train, y_test = train_test_split(matches[features] , matches[\"cumulative\"], test_size=0.2, random_state=0)"
      ],
      "execution_count": 25,
      "outputs": []
    },
    {
      "cell_type": "code",
      "metadata": {
        "colab": {
          "base_uri": "https://localhost:8080/"
        },
        "id": "sas68Yvdoy0A",
        "outputId": "7455bd9b-0f00-40b1-b851-f1e369c022f8"
      },
      "source": [
        "#__Random forest regressor__\n",
        "from sklearn.model_selection import RandomizedSearchCV\n",
        "# Number of trees in random forest\n",
        "n_estimators = [int(x) for x in np.linspace(start = 200, stop = 2000, num = 4)]\n",
        "# Number of features to consider at every split\n",
        "max_features = ['auto', 'sqrt']\n",
        "# Maximum number of levels in tree\n",
        "max_depth = [int(x) for x in np.linspace(10, 60, num = 6)]\n",
        "max_depth.append(None)\n",
        "# Minimum number of samples required to split a node\n",
        "min_samples_split = [2, 5, 10]\n",
        "# Minimum number of samples required at each leaf node\n",
        "min_samples_leaf = [1, 2, 4]\n",
        "# Method of selecting samples for training each tree\n",
        "bootstrap = [True, False]\n",
        "# Create the random grid\n",
        "\n",
        "random_grid = {'n_estimators': n_estimators, \n",
        "               'max_features': max_features,\n",
        "               'max_depth': max_depth, \n",
        "               'min_samples_split': min_samples_split,\n",
        "               'min_samples_leaf': min_samples_leaf,\n",
        "               'bootstrap': bootstrap}\n",
        "\n",
        "\n",
        "# random_grid = {'n_estimators': [400], \n",
        "#                'max_features': max_features,\n",
        "#                'max_depth': [10], \n",
        "#                'min_samples_split': min_samples_split,\n",
        "#                'min_samples_leaf': min_samples_leaf,\n",
        "#                'bootstrap': bootstrap}\n",
        "\n",
        "\n",
        "\n",
        "print(random_grid)\n",
        "\n",
        "from sklearn.ensemble import RandomForestRegressor\n",
        "# Use the random grid to search for best hyperparameters\n",
        "# First create the base model to tune\n",
        "rf = RandomForestRegressor()\n",
        "# Random search of parameters, using 3 fold cross validation, \n",
        "# search across 100 different combinations, and use all available cores\n",
        "rf_random = RandomizedSearchCV(estimator = rf, param_distributions = random_grid, n_iter = 400, cv = 3, verbose=1, random_state=42, n_jobs = -1)\n",
        "# Fit the random search model\n",
        "rf_random.fit(x_train, y_train)\n",
        "\n",
        "print(rf_random.best_params_)\n",
        "prediction = rf_random.predict(x_test)"
      ],
      "execution_count": 26,
      "outputs": [
        {
          "output_type": "stream",
          "text": [
            "{'n_estimators': [1000], 'max_features': ['auto', 'sqrt'], 'max_depth': [10], 'min_samples_split': [2, 5, 10], 'min_samples_leaf': [1, 2, 4], 'bootstrap': [True, False]}\n",
            "Fitting 3 folds for each of 36 candidates, totalling 108 fits\n"
          ],
          "name": "stdout"
        },
        {
          "output_type": "stream",
          "text": [
            "/usr/local/lib/python3.7/dist-packages/sklearn/model_selection/_search.py:281: UserWarning: The total space of parameters 36 is smaller than n_iter=400. Running 36 iterations. For exhaustive searches, use GridSearchCV.\n",
            "  % (grid_size, self.n_iter, grid_size), UserWarning)\n",
            "[Parallel(n_jobs=-1)]: Using backend LokyBackend with 2 concurrent workers.\n",
            "[Parallel(n_jobs=-1)]: Done  46 tasks      | elapsed:  3.5min\n",
            "[Parallel(n_jobs=-1)]: Done 108 out of 108 | elapsed:  8.9min finished\n"
          ],
          "name": "stderr"
        },
        {
          "output_type": "stream",
          "text": [
            "{'n_estimators': 1000, 'min_samples_split': 2, 'min_samples_leaf': 1, 'max_features': 'sqrt', 'max_depth': 10, 'bootstrap': True}\n"
          ],
          "name": "stdout"
        }
      ]
    },
    {
      "cell_type": "code",
      "metadata": {
        "id": "D1BXk0EnPaRW"
      },
      "source": [
        "##XGBoost\n",
        "\n",
        "from xgboost import XGBRegressor\n",
        "xgb = XGBRegressor(objective ='reg:squarederror', colsample_bytree = 0.3, learning_rate = 0.01,\n",
        "                max_depth = 25, alpha = 10, n_estimators = 4000)\n",
        "xgb.fit(x_train , y_train)\n",
        "xgb_prediction = xgb.predict(x_test)"
      ],
      "execution_count": 27,
      "outputs": []
    },
    {
      "cell_type": "code",
      "metadata": {
        "id": "6-kqKP3Su0Ny"
      },
      "source": [
        ""
      ],
      "execution_count": 27,
      "outputs": []
    },
    {
      "cell_type": "code",
      "metadata": {
        "colab": {
          "base_uri": "https://localhost:8080/",
          "height": 401
        },
        "id": "1M2MAdolu5Jt",
        "outputId": "0edcc378-4cf7-4324-b370-fbe0e94b8a95"
      },
      "source": [
        "from sklearn import metrics\n",
        "\n",
        "print(sns.distplot(y_test-prediction))\n",
        "print('MAE:', metrics.mean_absolute_error(y_test, prediction))\n",
        "print('MSE:', metrics.mean_squared_error(y_test, prediction))\n",
        "print('RMSE:', np.sqrt(metrics.mean_squared_error(y_test, prediction)))"
      ],
      "execution_count": 28,
      "outputs": [
        {
          "output_type": "stream",
          "text": [
            "/usr/local/lib/python3.7/dist-packages/seaborn/distributions.py:2557: FutureWarning: `distplot` is a deprecated function and will be removed in a future version. Please adapt your code to use either `displot` (a figure-level function with similar flexibility) or `histplot` (an axes-level function for histograms).\n",
            "  warnings.warn(msg, FutureWarning)\n"
          ],
          "name": "stderr"
        },
        {
          "output_type": "stream",
          "text": [
            "AxesSubplot(0.125,0.125;0.775x0.755)\n",
            "MAE: 5.407279157220625\n",
            "MSE: 53.71031091616135\n",
            "RMSE: 7.328731876399992\n"
          ],
          "name": "stdout"
        },
        {
          "output_type": "display_data",
          "data": {
            "image/png": "[encoded data removed]",
            "text/plain": [
              "<Figure size 432x288 with 1 Axes>"
            ]
          },
          "metadata": {
            "tags": [],
            "needs_background": "light"
          }
        }
      ]
    },
    {
      "cell_type": "code",
      "metadata": {
        "colab": {
          "base_uri": "https://localhost:8080/",
          "height": 401
        },
        "id": "9SGmtJ29vu5u",
        "outputId": "b7a26d4a-6360-4f92-efc1-7d1b16ba2626"
      },
      "source": [
        "print(sns.distplot(y_test-xgb_prediction))\n",
        "print('MAE:', metrics.mean_absolute_error(y_test, xgb_prediction))\n",
        "print('MSE:', metrics.mean_squared_error(y_test, xgb_prediction))\n",
        "print('RMSE:', np.sqrt(metrics.mean_squared_error(y_test, xgb_prediction)))"
      ],
      "execution_count": 29,
      "outputs": [
        {
          "output_type": "stream",
          "text": [
            "/usr/local/lib/python3.7/dist-packages/seaborn/distributions.py:2557: FutureWarning: `distplot` is a deprecated function and will be removed in a future version. Please adapt your code to use either `displot` (a figure-level function with similar flexibility) or `histplot` (an axes-level function for histograms).\n",
            "  warnings.warn(msg, FutureWarning)\n"
          ],
          "name": "stderr"
        },
        {
          "output_type": "stream",
          "text": [
            "AxesSubplot(0.125,0.125;0.775x0.755)\n",
            "MAE: 5.340317686764615\n",
            "MSE: 50.896653254029175\n",
            "RMSE: 7.134189039689737\n"
          ],
          "name": "stdout"
        },
        {
          "output_type": "display_data",
          "data": {
            "image/png": "[encoded data removed]",
            "text/plain": [
              "<Figure size 432x288 with 1 Axes>"
            ]
          },
          "metadata": {
            "tags": [],
            "needs_background": "light"
          }
        }
      ]
    },
    {
      "cell_type": "code",
      "metadata": {
        "colab": {
          "base_uri": "https://localhost:8080/"
        },
        "id": "VWVRDNN-d9Iv",
        "outputId": "9f8aee62-f3b5-4107-d48f-dfb1adb816b8"
      },
      "source": [
        "from sklearn.metrics import r2_score\n",
        "print(r2_score(y_test , prediction))\n",
        "print(r2_score(y_test , xgb_prediction))"
      ],
      "execution_count": 30,
      "outputs": [
        {
          "output_type": "stream",
          "text": [
            "0.7918875097356944\n",
            "0.8027896492472604\n"
          ],
          "name": "stdout"
        }
      ]
    },
    {
      "cell_type": "code",
      "metadata": {
        "id": "dD7A1waAFXIp"
      },
      "source": [
        "import joblib"
      ],
      "execution_count": 31,
      "outputs": []
    },
    {
      "cell_type": "code",
      "metadata": {
        "colab": {
          "base_uri": "https://localhost:8080/"
        },
        "id": "4PbzWxCtGFlP",
        "outputId": "134605d1-da50-4f5b-b4e5-61af2f66f0c3"
      },
      "source": [
        "joblib.dump(rf_random , \"FewFeaturesRandomForest(79).joblib\")\n",
        "joblib.dump(xgb , \"XGB(80).joblib\")\n",
        "\n",
        "\n",
        "# joblib.dump(venue_encoder , \"venue_encoder.joblib\")\n",
        "# joblib.dump(batting_team_encoder , \"batting_team_encoder.joblib\")\n",
        "# joblib.dump(bowling_team_encoder , \"bowling_team_encoder.joblib\")\n",
        "# joblib.dump(striker_encoder , \"striker_encoder .joblib\")\n",
        "# joblib.dump(bowler_encoder , \"bowler_encoder.joblib\")\n",
        "# joblib.dump(non_striker_encoder , \"non_striker_encoder .joblib\")"
      ],
      "execution_count": 37,
      "outputs": [
        {
          "output_type": "execute_result",
          "data": {
            "text/plain": [
              "['XGB(80).joblib']"
            ]
          },
          "metadata": {
            "tags": []
          },
          "execution_count": 37
        }
      ]
    },
    {
      "cell_type": "code",
      "metadata": {
        "id": "ExiXgyliG_Td"
      },
      "source": [
        "prediction = rf_random.predict(x_test)"
      ],
      "execution_count": 33,
      "outputs": []
    },
    {
      "cell_type": "code",
      "metadata": {
        "id": "ocCSjoDEKB8C"
      },
      "source": [
        "x_test1 = x_test.reset_index(drop = True , inplace = True)"
      ],
      "execution_count": 34,
      "outputs": []
    },
    {
      "cell_type": "code",
      "metadata": {
        "colab": {
          "base_uri": "https://localhost:8080/",
          "height": 419
        },
        "id": "pjve2iWgK-0A",
        "outputId": "c9f91286-2cba-4658-db82-fec69f3e9778"
      },
      "source": [
        "x_test"
      ],
      "execution_count": 35,
      "outputs": [
        {
          "output_type": "execute_result",
          "data": {
            "text/html": [
              "<div>\n",
              "<style scoped>\n",
              "    .dataframe tbody tr th:only-of-type {\n",
              "        vertical-align: middle;\n",
              "    }\n",
              "\n",
              "    .dataframe tbody tr th {\n",
              "        vertical-align: top;\n",
              "    }\n",
              "\n",
              "    .dataframe thead th {\n",
              "        text-align: right;\n",
              "    }\n",
              "</style>\n",
              "<table border=\"1\" class=\"dataframe\">\n",
              "  <thead>\n",
              "    <tr style=\"text-align: right;\">\n",
              "      <th></th>\n",
              "      <th>venue</th>\n",
              "      <th>innings</th>\n",
              "      <th>ball</th>\n",
              "      <th>striker</th>\n",
              "    </tr>\n",
              "  </thead>\n",
              "  <tbody>\n",
              "    <tr>\n",
              "      <th>0</th>\n",
              "      <td>4</td>\n",
              "      <td>1</td>\n",
              "      <td>3.1</td>\n",
              "      <td>80</td>\n",
              "    </tr>\n",
              "    <tr>\n",
              "      <th>1</th>\n",
              "      <td>16</td>\n",
              "      <td>1</td>\n",
              "      <td>0.7</td>\n",
              "      <td>238</td>\n",
              "    </tr>\n",
              "    <tr>\n",
              "      <th>2</th>\n",
              "      <td>4</td>\n",
              "      <td>1</td>\n",
              "      <td>2.6</td>\n",
              "      <td>235</td>\n",
              "    </tr>\n",
              "    <tr>\n",
              "      <th>3</th>\n",
              "      <td>11</td>\n",
              "      <td>1</td>\n",
              "      <td>4.5</td>\n",
              "      <td>110</td>\n",
              "    </tr>\n",
              "    <tr>\n",
              "      <th>4</th>\n",
              "      <td>16</td>\n",
              "      <td>1</td>\n",
              "      <td>4.2</td>\n",
              "      <td>128</td>\n",
              "    </tr>\n",
              "    <tr>\n",
              "      <th>...</th>\n",
              "      <td>...</td>\n",
              "      <td>...</td>\n",
              "      <td>...</td>\n",
              "      <td>...</td>\n",
              "    </tr>\n",
              "    <tr>\n",
              "      <th>3091</th>\n",
              "      <td>7</td>\n",
              "      <td>1</td>\n",
              "      <td>0.5</td>\n",
              "      <td>261</td>\n",
              "    </tr>\n",
              "    <tr>\n",
              "      <th>3092</th>\n",
              "      <td>4</td>\n",
              "      <td>1</td>\n",
              "      <td>1.6</td>\n",
              "      <td>154</td>\n",
              "    </tr>\n",
              "    <tr>\n",
              "      <th>3093</th>\n",
              "      <td>15</td>\n",
              "      <td>1</td>\n",
              "      <td>2.5</td>\n",
              "      <td>179</td>\n",
              "    </tr>\n",
              "    <tr>\n",
              "      <th>3094</th>\n",
              "      <td>11</td>\n",
              "      <td>1</td>\n",
              "      <td>0.6</td>\n",
              "      <td>110</td>\n",
              "    </tr>\n",
              "    <tr>\n",
              "      <th>3095</th>\n",
              "      <td>8</td>\n",
              "      <td>1</td>\n",
              "      <td>3.2</td>\n",
              "      <td>60</td>\n",
              "    </tr>\n",
              "  </tbody>\n",
              "</table>\n",
              "<p>3096 rows × 4 columns</p>\n",
              "</div>"
            ],
            "text/plain": [
              "      venue  innings  ball  striker\n",
              "0         4        1   3.1       80\n",
              "1        16        1   0.7      238\n",
              "2         4        1   2.6      235\n",
              "3        11        1   4.5      110\n",
              "4        16        1   4.2      128\n",
              "...     ...      ...   ...      ...\n",
              "3091      7        1   0.5      261\n",
              "3092      4        1   1.6      154\n",
              "3093     15        1   2.5      179\n",
              "3094     11        1   0.6      110\n",
              "3095      8        1   3.2       60\n",
              "\n",
              "[3096 rows x 4 columns]"
            ]
          },
          "metadata": {
            "tags": []
          },
          "execution_count": 35
        }
      ]
    },
    {
      "cell_type": "code",
      "metadata": {
        "colab": {
          "base_uri": "https://localhost:8080/"
        },
        "id": "NfeptialKDFn",
        "outputId": "ff76378e-e722-4be9-89c0-50c1e09cc8f4"
      },
      "source": [
        "data = np.array([19, 1 , 5.5 , 222])\n",
        "rf_random.predict(data.reshape(1 , -1))"
      ],
      "execution_count": 46,
      "outputs": [
        {
          "output_type": "execute_result",
          "data": {
            "text/plain": [
              "array([36.56003447])"
            ]
          },
          "metadata": {
            "tags": []
          },
          "execution_count": 46
        }
      ]
    },
    {
      "cell_type": "code",
      "metadata": {
        "colab": {
          "base_uri": "https://localhost:8080/",
          "height": 419
        },
        "id": "0241AOaAN-zj",
        "outputId": "be5ab19a-fd2d-48c4-fcaf-e1e3ed4eb53c"
      },
      "source": [
        "matches[matches[\"ball\"] == 5.5].head(100)"
      ],
      "execution_count": 44,
      "outputs": [
        {
          "output_type": "execute_result",
          "data": {
            "text/html": [
              "<div>\n",
              "<style scoped>\n",
              "    .dataframe tbody tr th:only-of-type {\n",
              "        vertical-align: middle;\n",
              "    }\n",
              "\n",
              "    .dataframe tbody tr th {\n",
              "        vertical-align: top;\n",
              "    }\n",
              "\n",
              "    .dataframe thead th {\n",
              "        text-align: right;\n",
              "    }\n",
              "</style>\n",
              "<table border=\"1\" class=\"dataframe\">\n",
              "  <thead>\n",
              "    <tr style=\"text-align: right;\">\n",
              "      <th></th>\n",
              "      <th>venue</th>\n",
              "      <th>innings</th>\n",
              "      <th>ball</th>\n",
              "      <th>batting_team</th>\n",
              "      <th>bowling_team</th>\n",
              "      <th>striker</th>\n",
              "      <th>non_striker</th>\n",
              "      <th>bowler</th>\n",
              "      <th>total_runs</th>\n",
              "      <th>cumulative</th>\n",
              "    </tr>\n",
              "  </thead>\n",
              "  <tbody>\n",
              "    <tr>\n",
              "      <th>34</th>\n",
              "      <td>0</td>\n",
              "      <td>1</td>\n",
              "      <td>5.5</td>\n",
              "      <td>2</td>\n",
              "      <td>4</td>\n",
              "      <td>71</td>\n",
              "      <td>222</td>\n",
              "      <td>68</td>\n",
              "      <td>0</td>\n",
              "      <td>47</td>\n",
              "    </tr>\n",
              "    <tr>\n",
              "      <th>162</th>\n",
              "      <td>0</td>\n",
              "      <td>2</td>\n",
              "      <td>5.5</td>\n",
              "      <td>4</td>\n",
              "      <td>2</td>\n",
              "      <td>205</td>\n",
              "      <td>110</td>\n",
              "      <td>123</td>\n",
              "      <td>1</td>\n",
              "      <td>43</td>\n",
              "    </tr>\n",
              "    <tr>\n",
              "      <th>485</th>\n",
              "      <td>12</td>\n",
              "      <td>1</td>\n",
              "      <td>5.5</td>\n",
              "      <td>1</td>\n",
              "      <td>2</td>\n",
              "      <td>16</td>\n",
              "      <td>253</td>\n",
              "      <td>153</td>\n",
              "      <td>4</td>\n",
              "      <td>37</td>\n",
              "    </tr>\n",
              "    <tr>\n",
              "      <th>613</th>\n",
              "      <td>12</td>\n",
              "      <td>2</td>\n",
              "      <td>5.5</td>\n",
              "      <td>2</td>\n",
              "      <td>1</td>\n",
              "      <td>113</td>\n",
              "      <td>275</td>\n",
              "      <td>107</td>\n",
              "      <td>1</td>\n",
              "      <td>36</td>\n",
              "    </tr>\n",
              "    <tr>\n",
              "      <th>732</th>\n",
              "      <td>19</td>\n",
              "      <td>1</td>\n",
              "      <td>5.5</td>\n",
              "      <td>2</td>\n",
              "      <td>4</td>\n",
              "      <td>222</td>\n",
              "      <td>125</td>\n",
              "      <td>195</td>\n",
              "      <td>0</td>\n",
              "      <td>37</td>\n",
              "    </tr>\n",
              "    <tr>\n",
              "      <th>...</th>\n",
              "      <td>...</td>\n",
              "      <td>...</td>\n",
              "      <td>...</td>\n",
              "      <td>...</td>\n",
              "      <td>...</td>\n",
              "      <td>...</td>\n",
              "      <td>...</td>\n",
              "      <td>...</td>\n",
              "      <td>...</td>\n",
              "      <td>...</td>\n",
              "    </tr>\n",
              "    <tr>\n",
              "      <th>16109</th>\n",
              "      <td>19</td>\n",
              "      <td>2</td>\n",
              "      <td>5.5</td>\n",
              "      <td>1</td>\n",
              "      <td>4</td>\n",
              "      <td>108</td>\n",
              "      <td>269</td>\n",
              "      <td>59</td>\n",
              "      <td>4</td>\n",
              "      <td>22</td>\n",
              "    </tr>\n",
              "    <tr>\n",
              "      <th>16969</th>\n",
              "      <td>4</td>\n",
              "      <td>1</td>\n",
              "      <td>5.5</td>\n",
              "      <td>3</td>\n",
              "      <td>4</td>\n",
              "      <td>66</td>\n",
              "      <td>198</td>\n",
              "      <td>53</td>\n",
              "      <td>0</td>\n",
              "      <td>40</td>\n",
              "    </tr>\n",
              "    <tr>\n",
              "      <th>17096</th>\n",
              "      <td>4</td>\n",
              "      <td>2</td>\n",
              "      <td>5.5</td>\n",
              "      <td>4</td>\n",
              "      <td>3</td>\n",
              "      <td>65</td>\n",
              "      <td>199</td>\n",
              "      <td>70</td>\n",
              "      <td>4</td>\n",
              "      <td>38</td>\n",
              "    </tr>\n",
              "    <tr>\n",
              "      <th>17460</th>\n",
              "      <td>15</td>\n",
              "      <td>1</td>\n",
              "      <td>5.5</td>\n",
              "      <td>5</td>\n",
              "      <td>6</td>\n",
              "      <td>214</td>\n",
              "      <td>81</td>\n",
              "      <td>117</td>\n",
              "      <td>1</td>\n",
              "      <td>50</td>\n",
              "    </tr>\n",
              "    <tr>\n",
              "      <th>17587</th>\n",
              "      <td>15</td>\n",
              "      <td>2</td>\n",
              "      <td>5.5</td>\n",
              "      <td>6</td>\n",
              "      <td>5</td>\n",
              "      <td>103</td>\n",
              "      <td>54</td>\n",
              "      <td>109</td>\n",
              "      <td>0</td>\n",
              "      <td>19</td>\n",
              "    </tr>\n",
              "  </tbody>\n",
              "</table>\n",
              "<p>100 rows × 10 columns</p>\n",
              "</div>"
            ],
            "text/plain": [
              "       venue  innings  ball  ...  bowler  total_runs  cumulative\n",
              "34         0        1   5.5  ...      68           0          47\n",
              "162        0        2   5.5  ...     123           1          43\n",
              "485       12        1   5.5  ...     153           4          37\n",
              "613       12        2   5.5  ...     107           1          36\n",
              "732       19        1   5.5  ...     195           0          37\n",
              "...      ...      ...   ...  ...     ...         ...         ...\n",
              "16109     19        2   5.5  ...      59           4          22\n",
              "16969      4        1   5.5  ...      53           0          40\n",
              "17096      4        2   5.5  ...      70           4          38\n",
              "17460     15        1   5.5  ...     117           1          50\n",
              "17587     15        2   5.5  ...     109           0          19\n",
              "\n",
              "[100 rows x 10 columns]"
            ]
          },
          "metadata": {
            "tags": []
          },
          "execution_count": 44
        }
      ]
    },
    {
      "cell_type": "code",
      "metadata": {
        "id": "lmGDQD8lON1N"
      },
      "source": [
        "# mid,       date,       venue,       bat_team,       bowl_team,      batsman,          bowler,         runs,     wickets,          overs,        runs_last_5,           wickets_last_5,            striker,             non-striker,               total"
      ],
      "execution_count": null,
      "outputs": []
    },
    {
      "cell_type": "code",
      "metadata": {
        "id": "J432xGqXYq_D"
      },
      "source": [
        "# 1,       2008-04-18,   M Chin ,    Kolkata Kni,   Royal Challen B,   SC Ganguly,      P Kumar,                        1,         0,               0.1,              1,                      0,                      0,                     0,                         222"
      ],
      "execution_count": null,
      "outputs": []
    }
  ]
}