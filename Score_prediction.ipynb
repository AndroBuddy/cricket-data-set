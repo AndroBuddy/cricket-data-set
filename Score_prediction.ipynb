{
  "nbformat": 4,
  "nbformat_minor": 0,
  "metadata": {
    "colab": {
      "name": "Score_prediction",
      "provenance": [],
      "collapsed_sections": [],
      "authorship_tag": "ABX9TyO9vaIXKisniw1Z8Q+AeBf4",
      "include_colab_link": true
    },
    "kernelspec": {
      "name": "python3",
      "display_name": "Python 3"
    },
    "language_info": {
      "name": "python"
    },
    "accelerator": "GPU"
  },
  "cells": [
    {
      "cell_type": "markdown",
      "metadata": {
        "id": "view-in-github",
        "colab_type": "text"
      },
      "source": [
        "<a href=\"https://colab.research.google.com/github/AndroBuddy/cricket-data-set/blob/master/Score_prediction.ipynb\" target=\"_parent\"><img src=\"https://colab.research.google.com/assets/colab-badge.svg\" alt=\"Open In Colab\"/></a>"
      ]
    },
    {
      "cell_type": "code",
      "metadata": {
        "colab": {
          "base_uri": "https://localhost:8080/"
        },
        "id": "e9vZ9QEVyQLr",
        "outputId": "7fac62bd-49da-483d-95a4-a40fe4b847f5"
      },
      "source": [
        "!git clone https://github.com/AndroBuddy/cricket-data-set.git"
      ],
      "execution_count": 1,
      "outputs": [
        {
          "output_type": "stream",
          "text": [
            "fatal: destination path 'cricket-data-set' already exists and is not an empty directory.\n"
          ],
          "name": "stdout"
        }
      ]
    },
    {
      "cell_type": "code",
      "metadata": {
        "id": "igxddvXfySRu"
      },
      "source": [
        "import numpy as np\n",
        "import pandas as pd\n",
        "import matplotlib.pyplot as plt\n",
        "import seaborn as sns\n",
        "from sklearn.preprocessing import LabelEncoder\n",
        "from sklearn.ensemble import RandomForestClassifier\n",
        "from sklearn.linear_model import LogisticRegression\n",
        "from sklearn.model_selection import train_test_split\n",
        "from sklearn.feature_selection import RFE\n",
        "from sklearn.preprocessing import StandardScaler\n",
        "from sklearn.svm import SVC\n",
        "from sklearn.tree import DecisionTreeClassifier\n",
        "# from sklearn.metrics import confusion_matrix, classification_report"
      ],
      "execution_count": 2,
      "outputs": []
    },
    {
      "cell_type": "code",
      "metadata": {
        "colab": {
          "base_uri": "https://localhost:8080/"
        },
        "id": "lGhNGzeWK3B7",
        "outputId": "ef76b5e9-13e0-4eae-806a-c10020e024f5"
      },
      "source": [
        "import pandas as pd\n",
        "import glob\n",
        "\n",
        "path = r'/content/cricket-data-set' # use your path\n",
        "all_files = glob.glob(path + \"/*.csv\")\n",
        "\n",
        "li = []\n",
        "\n",
        "for filename in all_files:\n",
        "    matches = pd.read_csv(filename, index_col=None, header=0)\n",
        "    matches[\"total_runs\"] = matches.runs_off_bat + matches.extras\n",
        "    column = pd.unique(matches[\"batting_team\"])\n",
        "    df = matches.groupby(matches[\"batting_team\"])\n",
        "    try:\n",
        "      df1 = df.get_group(column[0])\n",
        "      df2 = df.get_group(column[1])\n",
        "\n",
        "      df1[\"cumulative\"] = df1[\"total_runs\"].cumsum()\n",
        "      df2[\"cumulative\"] = df2[\"total_runs\"].cumsum()\n",
        "\n",
        "      matches = pd.concat([df1,df2])\n",
        "      li.append(matches)\n",
        "    except:\n",
        "      print(filename)\n",
        "      print(\"HELOOOOOOOOOOOOOOOOOOOOOOOOOOOOOOOOOOOOOOOOOOOO\") ## one of the files : 501265 has some error\n",
        "      continue\n",
        "\n",
        "matches = pd.concat(li, axis=0, ignore_index=True)"
      ],
      "execution_count": 3,
      "outputs": [
        {
          "output_type": "stream",
          "text": [
            "/usr/local/lib/python3.7/dist-packages/ipykernel_launcher.py:18: SettingWithCopyWarning: \n",
            "A value is trying to be set on a copy of a slice from a DataFrame.\n",
            "Try using .loc[row_indexer,col_indexer] = value instead\n",
            "\n",
            "See the caveats in the documentation: https://pandas.pydata.org/pandas-docs/stable/user_guide/indexing.html#returning-a-view-versus-a-copy\n",
            "/usr/local/lib/python3.7/dist-packages/ipykernel_launcher.py:19: SettingWithCopyWarning: \n",
            "A value is trying to be set on a copy of a slice from a DataFrame.\n",
            "Try using .loc[row_indexer,col_indexer] = value instead\n",
            "\n",
            "See the caveats in the documentation: https://pandas.pydata.org/pandas-docs/stable/user_guide/indexing.html#returning-a-view-versus-a-copy\n"
          ],
          "name": "stderr"
        },
        {
          "output_type": "stream",
          "text": [
            "/content/cricket-data-set/501265.csv\n",
            "HELOOOOOOOOOOOOOOOOOOOOOOOOOOOOOOOOOOOOOOOOOOOO\n"
          ],
          "name": "stdout"
        }
      ]
    },
    {
      "cell_type": "code",
      "metadata": {
        "id": "dJm8ztnYiDea"
      },
      "source": [
        "matches_copy = matches.copy()"
      ],
      "execution_count": 4,
      "outputs": []
    },
    {
      "cell_type": "code",
      "metadata": {
        "colab": {
          "base_uri": "https://localhost:8080/"
        },
        "id": "XhYKH_C-LPD7",
        "outputId": "4feb6d0f-a20d-4750-d954-53da4f1619d3"
      },
      "source": [
        "matches.season.iloc[0]"
      ],
      "execution_count": 5,
      "outputs": [
        {
          "output_type": "execute_result",
          "data": {
            "text/plain": [
              "2012"
            ]
          },
          "metadata": {
            "tags": []
          },
          "execution_count": 5
        }
      ]
    },
    {
      "cell_type": "code",
      "metadata": {
        "id": "sTnsM0nizMzy"
      },
      "source": [
        "matches  = matches.drop(columns = [\"season\" , \"match_id\" , \"start_date\" , \"wicket_type\" , \"player_dismissed\" , \"other_wicket_type\" , \"other_player_dismissed\"])"
      ],
      "execution_count": 6,
      "outputs": []
    },
    {
      "cell_type": "code",
      "metadata": {
        "id": "A--CurizY4Lc"
      },
      "source": [
        "matches  = matches.drop(columns = [\"runs_off_bat\" , \"extras\" , \"wides\" , \"noballs\" , \"byes\" , \"legbyes\" , \"penalty\"])"
      ],
      "execution_count": 7,
      "outputs": []
    },
    {
      "cell_type": "code",
      "metadata": {
        "colab": {
          "base_uri": "https://localhost:8080/"
        },
        "id": "cSiDDkrgyq1t",
        "outputId": "fa64411b-5fa4-4a0d-fced-a7c0d87c54d4"
      },
      "source": [
        "matches.columns"
      ],
      "execution_count": 8,
      "outputs": [
        {
          "output_type": "execute_result",
          "data": {
            "text/plain": [
              "Index(['venue', 'innings', 'ball', 'batting_team', 'bowling_team', 'striker',\n",
              "       'non_striker', 'bowler', 'total_runs', 'cumulative'],\n",
              "      dtype='object')"
            ]
          },
          "metadata": {
            "tags": []
          },
          "execution_count": 8
        }
      ]
    },
    {
      "cell_type": "code",
      "metadata": {
        "colab": {
          "base_uri": "https://localhost:8080/"
        },
        "id": "OaRf9_BNdV5i",
        "outputId": "deac8dcf-476a-46a6-e1d4-c86b1286b02e"
      },
      "source": [
        "pd.unique(matches[\"venue\"])"
      ],
      "execution_count": 9,
      "outputs": [
        {
          "output_type": "execute_result",
          "data": {
            "text/plain": [
              "array(['MA Chidambaram Stadium, Chepauk', 'Sawai Mansingh Stadium',\n",
              "       'M Chinnaswamy Stadium', 'Eden Gardens',\n",
              "       'Dr DY Patil Sports Academy', 'New Wanderers Stadium',\n",
              "       'Brabourne Stadium', 'Subrata Roy Sahara Stadium',\n",
              "       'Punjab Cricket Association Stadium, Mohali', 'Kingsmead',\n",
              "       'SuperSport Park', 'Himachal Pradesh Cricket Association Stadium',\n",
              "       'Rajiv Gandhi International Stadium, Uppal', 'Feroz Shah Kotla',\n",
              "       'Newlands', 'Wankhede Stadium', 'De Beers Diamond Oval',\n",
              "       'Barabati Stadium', 'Nehru Stadium', 'Buffalo Park',\n",
              "       'Sardar Patel Stadium, Motera', 'Holkar Cricket Stadium',\n",
              "       'Dr. Y.S. Rajasekhara Reddy ACA-VDCA Cricket Stadium',\n",
              "       'Vidarbha Cricket Association Stadium, Jamtha', \"St George's Park\",\n",
              "       'OUTsurance Oval'], dtype=object)"
            ]
          },
          "metadata": {
            "tags": []
          },
          "execution_count": 9
        }
      ]
    },
    {
      "cell_type": "code",
      "metadata": {
        "id": "4hr6LpVzlOuI"
      },
      "source": [
        "current_teams = ['Kolkata Knight Riders', 'Chennai Super Kings', 'Rajasthan Royals', 'Mumbai Indians', 'Kings XI Punjab', 'Royal Challengers Bangalore', 'Delhi Daredevils', 'Sunrisers Hyderabad']"
      ],
      "execution_count": 10,
      "outputs": []
    },
    {
      "cell_type": "code",
      "metadata": {
        "id": "YdiyiZeolTF4"
      },
      "source": [
        "matches = matches[(matches['batting_team'].isin(current_teams)) & (matches['bowling_team'].isin(current_teams))]"
      ],
      "execution_count": 11,
      "outputs": []
    },
    {
      "cell_type": "code",
      "metadata": {
        "colab": {
          "base_uri": "https://localhost:8080/"
        },
        "id": "rd7hthJplW5j",
        "outputId": "c1b16439-84b8-4ba2-a9d5-41765db21807"
      },
      "source": [
        "pd.unique(matches[\"batting_team\"])"
      ],
      "execution_count": 12,
      "outputs": [
        {
          "output_type": "execute_result",
          "data": {
            "text/plain": [
              "array(['Chennai Super Kings', 'Kolkata Knight Riders', 'Rajasthan Royals',\n",
              "       'Mumbai Indians', 'Royal Challengers Bangalore',\n",
              "       'Delhi Daredevils', 'Kings XI Punjab'], dtype=object)"
            ]
          },
          "metadata": {
            "tags": []
          },
          "execution_count": 12
        }
      ]
    },
    {
      "cell_type": "code",
      "metadata": {
        "colab": {
          "base_uri": "https://localhost:8080/"
        },
        "id": "dtmVZniYliHo",
        "outputId": "cc8f42d0-bdd3-401c-c210-62dd9163d476"
      },
      "source": [
        "matches.columns"
      ],
      "execution_count": 13,
      "outputs": [
        {
          "output_type": "execute_result",
          "data": {
            "text/plain": [
              "Index(['venue', 'innings', 'ball', 'batting_team', 'bowling_team', 'striker',\n",
              "       'non_striker', 'bowler', 'total_runs', 'cumulative'],\n",
              "      dtype='object')"
            ]
          },
          "metadata": {
            "tags": []
          },
          "execution_count": 13
        }
      ]
    },
    {
      "cell_type": "code",
      "metadata": {
        "id": "pcGkVv0E1BN8"
      },
      "source": [
        "venue_encoder = LabelEncoder()\n",
        "matches[\"venue\"] = venue_encoder.fit_transform(matches[\"venue\"])\n",
        "batting_team_encoder = LabelEncoder()\n",
        "matches[\"batting_team\"] = batting_team_encoder.fit_transform(matches[\"batting_team\"])\n",
        "bowling_team_encoder = LabelEncoder()\n",
        "matches[\"bowling_team\"] = bowling_team_encoder.fit_transform(matches[\"bowling_team\"])\n",
        "striker_encoder = LabelEncoder()\n",
        "matches[\"striker\"] = striker_encoder.fit_transform(matches[\"striker\"])\n",
        "non_striker_encoder = LabelEncoder()\n",
        "matches[\"non_striker\"] = non_striker_encoder.fit_transform(matches[\"non_striker\"])\n",
        "bowler_encoder = LabelEncoder()\n",
        "matches[\"bowler\"] = bowler_encoder.fit_transform(matches[\"bowler\"])"
      ],
      "execution_count": 14,
      "outputs": []
    },
    {
      "cell_type": "code",
      "metadata": {
        "id": "D0kb_MEwlL_c"
      },
      "source": [
        ""
      ],
      "execution_count": 14,
      "outputs": []
    },
    {
      "cell_type": "code",
      "metadata": {
        "colab": {
          "base_uri": "https://localhost:8080/"
        },
        "id": "D8gQDmbPe3iW",
        "outputId": "ef2ece9f-49f7-4f5e-acc6-8e284d8c451d"
      },
      "source": [
        "matches.columns"
      ],
      "execution_count": 15,
      "outputs": [
        {
          "output_type": "execute_result",
          "data": {
            "text/plain": [
              "Index(['venue', 'innings', 'ball', 'batting_team', 'bowling_team', 'striker',\n",
              "       'non_striker', 'bowler', 'total_runs', 'cumulative'],\n",
              "      dtype='object')"
            ]
          },
          "metadata": {
            "tags": []
          },
          "execution_count": 15
        }
      ]
    },
    {
      "cell_type": "code",
      "metadata": {
        "id": "oREgU0YX1xc3"
      },
      "source": [
        "# features = [\"venue\" , \"innings\" , \"ball\" , \"batting_team\" , \"bowling_team\" , \"striker\" , \"non_striker\" , \"bowler\" , \"total_runs\" , \"cumulative\"]\n",
        "features = [\"venue\" , \"innings\" , \"ball\" , \"batting_team\" , \"bowling_team\" , \"striker\" , \"non_striker\" , \"bowler\"]\n",
        "\n",
        "# features = [ \"innings\" , \"ball\" , \"total_runs\"]"
      ],
      "execution_count": 25,
      "outputs": []
    },
    {
      "cell_type": "code",
      "metadata": {
        "colab": {
          "base_uri": "https://localhost:8080/"
        },
        "id": "qVQqM2vANQQ0",
        "outputId": "93b2ab43-6cbe-485f-de17-08bbc64ccae2"
      },
      "source": [
        "matches_copy['count'] = 1\n",
        "matches_copy.groupby(['venue']).count()['count']"
      ],
      "execution_count": 26,
      "outputs": [
        {
          "output_type": "execute_result",
          "data": {
            "text/plain": [
              "venue\n",
              "Barabati Stadium                                        973\n",
              "Brabourne Stadium                                      1720\n",
              "Buffalo Park                                            715\n",
              "De Beers Diamond Oval                                   726\n",
              "Dr DY Patil Sports Academy                             3993\n",
              "Dr. Y.S. Rajasekhara Reddy ACA-VDCA Cricket Stadium     476\n",
              "Eden Gardens                                           6451\n",
              "Feroz Shah Kotla                                       6160\n",
              "Himachal Pradesh Cricket Association Stadium           1673\n",
              "Holkar Cricket Stadium                                  408\n",
              "Kingsmead                                              3643\n",
              "M Chinnaswamy Stadium                                  6398\n",
              "MA Chidambaram Stadium, Chepauk                        8050\n",
              "Nehru Stadium                                          1155\n",
              "New Wanderers Stadium                                  1940\n",
              "Newlands                                               1539\n",
              "OUTsurance Oval                                         500\n",
              "Punjab Cricket Association Stadium, Mohali             5043\n",
              "Rajiv Gandhi International Stadium, Uppal              4344\n",
              "Sardar Patel Stadium, Motera                            945\n",
              "Sawai Mansingh Stadium                                 5709\n",
              "St George's Park                                       1677\n",
              "Subrata Roy Sahara Stadium                             2165\n",
              "SuperSport Park                                        2866\n",
              "Vidarbha Cricket Association Stadium, Jamtha            742\n",
              "Wankhede Stadium                                       5119\n",
              "Name: count, dtype: int64"
            ]
          },
          "metadata": {
            "tags": []
          },
          "execution_count": 26
        }
      ]
    },
    {
      "cell_type": "code",
      "metadata": {
        "id": "E3iNrwN3i6iM"
      },
      "source": [
        "matches = matches[matches[\"ball\"] < 6]"
      ],
      "execution_count": 27,
      "outputs": []
    },
    {
      "cell_type": "code",
      "metadata": {
        "id": "PegGpOy6QBBF"
      },
      "source": [
        "matches.head(38)"
      ],
      "execution_count": null,
      "outputs": []
    },
    {
      "cell_type": "code",
      "metadata": {
        "id": "1mFxPr9nWEHG"
      },
      "source": [
        ""
      ],
      "execution_count": 19,
      "outputs": []
    },
    {
      "cell_type": "code",
      "metadata": {
        "id": "X80HYE7OjjI_"
      },
      "source": [
        "x_train = matches[features].head(12380)\n",
        "x_test = matches[features].tail(matches.shape[0] - 12380)"
      ],
      "execution_count": 28,
      "outputs": []
    },
    {
      "cell_type": "code",
      "metadata": {
        "id": "vA62eDtdk05C"
      },
      "source": [
        "y_train = matches[features].head(12380)\n",
        "y_test = matches[features].tail(matches.shape[0] - 12380)"
      ],
      "execution_count": 29,
      "outputs": []
    },
    {
      "cell_type": "code",
      "metadata": {
        "colab": {
          "base_uri": "https://localhost:8080/"
        },
        "id": "DvU3ZQ6YorbX",
        "outputId": "32d0ed8b-f23d-441c-ff38-5153bd1db8c2"
      },
      "source": [
        ""
      ],
      "execution_count": 22,
      "outputs": [
        {
          "output_type": "execute_result",
          "data": {
            "text/plain": [
              "12380.8"
            ]
          },
          "metadata": {
            "tags": []
          },
          "execution_count": 22
        }
      ]
    },
    {
      "cell_type": "code",
      "metadata": {
        "id": "sas68Yvdoy0A"
      },
      "source": [
        ""
      ],
      "execution_count": 22,
      "outputs": []
    }
  ]
}