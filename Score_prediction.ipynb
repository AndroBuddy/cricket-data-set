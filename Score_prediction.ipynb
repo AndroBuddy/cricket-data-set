{
  "nbformat": 4,
  "nbformat_minor": 0,
  "metadata": {
    "colab": {
      "name": "Score_prediction",
      "provenance": [],
      "collapsed_sections": [],
      "authorship_tag": "ABX9TyPrtahxdfQOPyRyNcNQ6ZH0",
      "include_colab_link": true
    },
    "kernelspec": {
      "name": "python3",
      "display_name": "Python 3"
    },
    "language_info": {
      "name": "python"
    },
    "accelerator": "GPU"
  },
  "cells": [
    {
      "cell_type": "markdown",
      "metadata": {
        "id": "view-in-github",
        "colab_type": "text"
      },
      "source": [
        "<a href=\"https://colab.research.google.com/github/AndroBuddy/cricket-data-set/blob/master/Score_prediction.ipynb\" target=\"_parent\"><img src=\"https://colab.research.google.com/assets/colab-badge.svg\" alt=\"Open In Colab\"/></a>"
      ]
    },
    {
      "cell_type": "code",
      "metadata": {
        "colab": {
          "base_uri": "https://localhost:8080/"
        },
        "id": "e9vZ9QEVyQLr",
        "outputId": "056deae9-cd35-4342-8a9f-6218bd02bfae"
      },
      "source": [
        "!git clone https://github.com/AndroBuddy/cricket-data-set.git"
      ],
      "execution_count": 135,
      "outputs": [
        {
          "output_type": "stream",
          "text": [
            "fatal: destination path 'cricket-data-set' already exists and is not an empty directory.\n"
          ],
          "name": "stdout"
        }
      ]
    },
    {
      "cell_type": "code",
      "metadata": {
        "id": "igxddvXfySRu"
      },
      "source": [
        "import numpy as np\n",
        "import pandas as pd\n",
        "import matplotlib.pyplot as plt\n",
        "import seaborn as sns\n",
        "from sklearn.preprocessing import LabelEncoder\n",
        "from sklearn.ensemble import RandomForestClassifier\n",
        "from sklearn.linear_model import LogisticRegression\n",
        "from sklearn.model_selection import train_test_split\n",
        "from sklearn.feature_selection import RFE\n",
        "from sklearn.preprocessing import StandardScaler\n",
        "from sklearn.svm import SVC\n",
        "from sklearn.tree import DecisionTreeClassifier\n",
        "# from sklearn.metrics import confusion_matrix, classification_report"
      ],
      "execution_count": 136,
      "outputs": []
    },
    {
      "cell_type": "code",
      "metadata": {
        "colab": {
          "base_uri": "https://localhost:8080/"
        },
        "id": "lGhNGzeWK3B7",
        "outputId": "220757c1-1bf9-4e46-f00b-298ead0181ce"
      },
      "source": [
        "import pandas as pd\n",
        "import glob\n",
        "\n",
        "path = r'/content/cricket-data-set' # use your path\n",
        "all_files = glob.glob(path + \"/*.csv\")\n",
        "\n",
        "li = []\n",
        "\n",
        "for filename in all_files:\n",
        "    matches = pd.read_csv(filename, index_col=None, header=0)\n",
        "    matches[\"total_runs\"] = matches.runs_off_bat + matches.extras\n",
        "    column = pd.unique(matches[\"batting_team\"])\n",
        "    df = matches.groupby(matches[\"batting_team\"])\n",
        "    try:\n",
        "      df1 = df.get_group(column[0])\n",
        "      df2 = df.get_group(column[1])\n",
        "\n",
        "      df1[\"cumulative\"] = df1[\"total_runs\"].cumsum()\n",
        "      df2[\"cumulative\"] = df2[\"total_runs\"].cumsum()\n",
        "\n",
        "      matches = pd.concat([df1,df2])\n",
        "      li.append(matches)\n",
        "    except:\n",
        "      print(filename)\n",
        "      print(\"HELOOOOOOOOOOOOOOOOOOOOOOOOOOOOOOOOOOOOOOOOOOOO\") ## one of the files : 501265 has some error\n",
        "      continue\n",
        "\n",
        "matches = pd.concat(li, axis=0, ignore_index=True)"
      ],
      "execution_count": 137,
      "outputs": [
        {
          "output_type": "stream",
          "text": [
            "/usr/local/lib/python3.7/dist-packages/ipykernel_launcher.py:18: SettingWithCopyWarning: \n",
            "A value is trying to be set on a copy of a slice from a DataFrame.\n",
            "Try using .loc[row_indexer,col_indexer] = value instead\n",
            "\n",
            "See the caveats in the documentation: https://pandas.pydata.org/pandas-docs/stable/user_guide/indexing.html#returning-a-view-versus-a-copy\n",
            "/usr/local/lib/python3.7/dist-packages/ipykernel_launcher.py:19: SettingWithCopyWarning: \n",
            "A value is trying to be set on a copy of a slice from a DataFrame.\n",
            "Try using .loc[row_indexer,col_indexer] = value instead\n",
            "\n",
            "See the caveats in the documentation: https://pandas.pydata.org/pandas-docs/stable/user_guide/indexing.html#returning-a-view-versus-a-copy\n"
          ],
          "name": "stderr"
        },
        {
          "output_type": "stream",
          "text": [
            "/content/cricket-data-set/501265.csv\n",
            "HELOOOOOOOOOOOOOOOOOOOOOOOOOOOOOOOOOOOOOOOOOOOO\n"
          ],
          "name": "stdout"
        }
      ]
    },
    {
      "cell_type": "code",
      "metadata": {
        "id": "dJm8ztnYiDea"
      },
      "source": [
        "matches_copy = matches.copy()"
      ],
      "execution_count": 138,
      "outputs": []
    },
    {
      "cell_type": "code",
      "metadata": {
        "colab": {
          "base_uri": "https://localhost:8080/"
        },
        "id": "XhYKH_C-LPD7",
        "outputId": "4bb96f46-042f-4470-b2f6-12f4874b5de7"
      },
      "source": [
        "matches.season.iloc[0]"
      ],
      "execution_count": 139,
      "outputs": [
        {
          "output_type": "execute_result",
          "data": {
            "text/plain": [
              "2012"
            ]
          },
          "metadata": {
            "tags": []
          },
          "execution_count": 139
        }
      ]
    },
    {
      "cell_type": "code",
      "metadata": {
        "id": "sTnsM0nizMzy"
      },
      "source": [
        "matches  = matches.drop(columns = [\"season\" , \"match_id\" , \"start_date\" , \"wicket_type\" , \"player_dismissed\" , \"other_wicket_type\" , \"other_player_dismissed\"])"
      ],
      "execution_count": 140,
      "outputs": []
    },
    {
      "cell_type": "code",
      "metadata": {
        "id": "A--CurizY4Lc"
      },
      "source": [
        "matches  = matches.drop(columns = [\"runs_off_bat\" , \"extras\" , \"wides\" , \"noballs\" , \"byes\" , \"legbyes\" , \"penalty\"])"
      ],
      "execution_count": 141,
      "outputs": []
    },
    {
      "cell_type": "code",
      "metadata": {
        "colab": {
          "base_uri": "https://localhost:8080/"
        },
        "id": "cSiDDkrgyq1t",
        "outputId": "9affc282-20a9-4ac1-d329-c46aae3e268b"
      },
      "source": [
        "matches.columns"
      ],
      "execution_count": 142,
      "outputs": [
        {
          "output_type": "execute_result",
          "data": {
            "text/plain": [
              "Index(['venue', 'innings', 'ball', 'batting_team', 'bowling_team', 'striker',\n",
              "       'non_striker', 'bowler', 'total_runs', 'cumulative'],\n",
              "      dtype='object')"
            ]
          },
          "metadata": {
            "tags": []
          },
          "execution_count": 142
        }
      ]
    },
    {
      "cell_type": "code",
      "metadata": {
        "colab": {
          "base_uri": "https://localhost:8080/"
        },
        "id": "OaRf9_BNdV5i",
        "outputId": "26209619-49b3-4aa9-9316-c6659c1ec485"
      },
      "source": [
        "pd.unique(matches[\"venue\"])"
      ],
      "execution_count": 143,
      "outputs": [
        {
          "output_type": "execute_result",
          "data": {
            "text/plain": [
              "array(['MA Chidambaram Stadium, Chepauk', 'Sawai Mansingh Stadium',\n",
              "       'M Chinnaswamy Stadium', 'Eden Gardens',\n",
              "       'Dr DY Patil Sports Academy', 'New Wanderers Stadium',\n",
              "       'Brabourne Stadium', 'Subrata Roy Sahara Stadium',\n",
              "       'Punjab Cricket Association Stadium, Mohali', 'Kingsmead',\n",
              "       'SuperSport Park', 'Himachal Pradesh Cricket Association Stadium',\n",
              "       'Rajiv Gandhi International Stadium, Uppal', 'Feroz Shah Kotla',\n",
              "       'Newlands', 'Wankhede Stadium', 'De Beers Diamond Oval',\n",
              "       'Barabati Stadium', 'Nehru Stadium', 'Buffalo Park',\n",
              "       'Sardar Patel Stadium, Motera', 'Holkar Cricket Stadium',\n",
              "       'Dr. Y.S. Rajasekhara Reddy ACA-VDCA Cricket Stadium',\n",
              "       'Vidarbha Cricket Association Stadium, Jamtha', \"St George's Park\",\n",
              "       'OUTsurance Oval'], dtype=object)"
            ]
          },
          "metadata": {
            "tags": []
          },
          "execution_count": 143
        }
      ]
    },
    {
      "cell_type": "code",
      "metadata": {
        "id": "4hr6LpVzlOuI"
      },
      "source": [
        "current_teams = ['Kolkata Knight Riders', 'Chennai Super Kings', 'Rajasthan Royals', 'Mumbai Indians', 'Kings XI Punjab', 'Royal Challengers Bangalore', 'Delhi Daredevils', 'Sunrisers Hyderabad']"
      ],
      "execution_count": 144,
      "outputs": []
    },
    {
      "cell_type": "code",
      "metadata": {
        "id": "YdiyiZeolTF4"
      },
      "source": [
        "matches = matches[(matches['batting_team'].isin(current_teams)) & (matches['bowling_team'].isin(current_teams))]"
      ],
      "execution_count": 145,
      "outputs": []
    },
    {
      "cell_type": "code",
      "metadata": {
        "colab": {
          "base_uri": "https://localhost:8080/"
        },
        "id": "rd7hthJplW5j",
        "outputId": "4ad57a58-fdf1-402c-b111-97732351c241"
      },
      "source": [
        "pd.unique(matches[\"batting_team\"])"
      ],
      "execution_count": 146,
      "outputs": [
        {
          "output_type": "execute_result",
          "data": {
            "text/plain": [
              "array(['Chennai Super Kings', 'Kolkata Knight Riders', 'Rajasthan Royals',\n",
              "       'Mumbai Indians', 'Royal Challengers Bangalore',\n",
              "       'Delhi Daredevils', 'Kings XI Punjab'], dtype=object)"
            ]
          },
          "metadata": {
            "tags": []
          },
          "execution_count": 146
        }
      ]
    },
    {
      "cell_type": "code",
      "metadata": {
        "colab": {
          "base_uri": "https://localhost:8080/"
        },
        "id": "dtmVZniYliHo",
        "outputId": "b81930c8-c2c7-4335-9e27-21fa1f2d5bee"
      },
      "source": [
        "matches.columns"
      ],
      "execution_count": 147,
      "outputs": [
        {
          "output_type": "execute_result",
          "data": {
            "text/plain": [
              "Index(['venue', 'innings', 'ball', 'batting_team', 'bowling_team', 'striker',\n",
              "       'non_striker', 'bowler', 'total_runs', 'cumulative'],\n",
              "      dtype='object')"
            ]
          },
          "metadata": {
            "tags": []
          },
          "execution_count": 147
        }
      ]
    },
    {
      "cell_type": "code",
      "metadata": {
        "id": "pcGkVv0E1BN8"
      },
      "source": [
        "venue_encoder = LabelEncoder()\n",
        "matches[\"venue\"] = venue_encoder.fit_transform(matches[\"venue\"])\n",
        "batting_team_encoder = LabelEncoder()\n",
        "matches[\"batting_team\"] = batting_team_encoder.fit_transform(matches[\"batting_team\"])\n",
        "bowling_team_encoder = LabelEncoder()\n",
        "matches[\"bowling_team\"] = bowling_team_encoder.fit_transform(matches[\"bowling_team\"])\n",
        "striker_encoder = LabelEncoder()\n",
        "matches[\"striker\"] = striker_encoder.fit_transform(matches[\"striker\"])\n",
        "non_striker_encoder = LabelEncoder()\n",
        "matches[\"non_striker\"] = non_striker_encoder.fit_transform(matches[\"non_striker\"])\n",
        "bowler_encoder = LabelEncoder()\n",
        "matches[\"bowler\"] = bowler_encoder.fit_transform(matches[\"bowler\"])"
      ],
      "execution_count": 148,
      "outputs": []
    },
    {
      "cell_type": "code",
      "metadata": {
        "id": "D0kb_MEwlL_c"
      },
      "source": [
        ""
      ],
      "execution_count": 148,
      "outputs": []
    },
    {
      "cell_type": "code",
      "metadata": {
        "colab": {
          "base_uri": "https://localhost:8080/"
        },
        "id": "D8gQDmbPe3iW",
        "outputId": "bd6faa51-4533-4597-8a1b-c940c58ade56"
      },
      "source": [
        "matches.columns"
      ],
      "execution_count": 149,
      "outputs": [
        {
          "output_type": "execute_result",
          "data": {
            "text/plain": [
              "Index(['venue', 'innings', 'ball', 'batting_team', 'bowling_team', 'striker',\n",
              "       'non_striker', 'bowler', 'total_runs', 'cumulative'],\n",
              "      dtype='object')"
            ]
          },
          "metadata": {
            "tags": []
          },
          "execution_count": 149
        }
      ]
    },
    {
      "cell_type": "code",
      "metadata": {
        "id": "oREgU0YX1xc3"
      },
      "source": [
        ""
      ],
      "execution_count": 149,
      "outputs": []
    },
    {
      "cell_type": "code",
      "metadata": {
        "colab": {
          "base_uri": "https://localhost:8080/"
        },
        "id": "qVQqM2vANQQ0",
        "outputId": "cc62a40a-1e3e-4b02-c469-d3ec19bd93b6"
      },
      "source": [
        "matches_copy['count'] = 1\n",
        "matches_copy.groupby(['venue']).count()['count']"
      ],
      "execution_count": 150,
      "outputs": [
        {
          "output_type": "execute_result",
          "data": {
            "text/plain": [
              "venue\n",
              "Barabati Stadium                                        973\n",
              "Brabourne Stadium                                      1720\n",
              "Buffalo Park                                            715\n",
              "De Beers Diamond Oval                                   726\n",
              "Dr DY Patil Sports Academy                             3993\n",
              "Dr. Y.S. Rajasekhara Reddy ACA-VDCA Cricket Stadium     476\n",
              "Eden Gardens                                           6451\n",
              "Feroz Shah Kotla                                       6160\n",
              "Himachal Pradesh Cricket Association Stadium           1673\n",
              "Holkar Cricket Stadium                                  408\n",
              "Kingsmead                                              3643\n",
              "M Chinnaswamy Stadium                                  6398\n",
              "MA Chidambaram Stadium, Chepauk                        8050\n",
              "Nehru Stadium                                          1155\n",
              "New Wanderers Stadium                                  1940\n",
              "Newlands                                               1539\n",
              "OUTsurance Oval                                         500\n",
              "Punjab Cricket Association Stadium, Mohali             5043\n",
              "Rajiv Gandhi International Stadium, Uppal              4344\n",
              "Sardar Patel Stadium, Motera                            945\n",
              "Sawai Mansingh Stadium                                 5709\n",
              "St George's Park                                       1677\n",
              "Subrata Roy Sahara Stadium                             2165\n",
              "SuperSport Park                                        2866\n",
              "Vidarbha Cricket Association Stadium, Jamtha            742\n",
              "Wankhede Stadium                                       5119\n",
              "Name: count, dtype: int64"
            ]
          },
          "metadata": {
            "tags": []
          },
          "execution_count": 150
        }
      ]
    },
    {
      "cell_type": "code",
      "metadata": {
        "colab": {
          "base_uri": "https://localhost:8080/"
        },
        "id": "wKXCm_z83RbI",
        "outputId": "a5ea793e-21e4-47f6-d731-11b994f896cf"
      },
      "source": [
        "matches.columns"
      ],
      "execution_count": 151,
      "outputs": [
        {
          "output_type": "execute_result",
          "data": {
            "text/plain": [
              "Index(['venue', 'innings', 'ball', 'batting_team', 'bowling_team', 'striker',\n",
              "       'non_striker', 'bowler', 'total_runs', 'cumulative'],\n",
              "      dtype='object')"
            ]
          },
          "metadata": {
            "tags": []
          },
          "execution_count": 151
        }
      ]
    },
    {
      "cell_type": "code",
      "metadata": {
        "id": "E3iNrwN3i6iM"
      },
      "source": [
        "matches = matches[matches[\"ball\"] < 6]"
      ],
      "execution_count": 152,
      "outputs": []
    },
    {
      "cell_type": "code",
      "metadata": {
        "id": "uzTo-bTt3Mvg"
      },
      "source": [
        "##Standardisation\n",
        "matches[\"venue\"] = matches[\"venue\"] / max(matches[\"venue\"])\n",
        "# matches[\"ball\"] = matches[\"ball\"] / 6\n",
        "matches[\"batting_team\"] = matches_copy[\"batting_team\"] / max(matches[\"batting_team\"])\n",
        "matches[\"bowling_team\"] = matches[\"bowling_team\"] / max(matches[\"bowling_team\"])\n",
        "matches[\"striker\"] = matches[\"striker\"] / max(matches[\"striker\"])\n",
        "matches[\"non_striker\"] = matches[\"non_striker\"] / max(matches[\"non_striker\"])\n",
        "# matches[\"cumulative\"] = matches[\"cumulative\"] / max(matches[\"cumulative\"])"
      ],
      "execution_count": 85,
      "outputs": []
    },
    {
      "cell_type": "code",
      "metadata": {
        "colab": {
          "base_uri": "https://localhost:8080/"
        },
        "id": "bCWY2HND4p7I",
        "outputId": "b2c3a7a4-0ffc-45b4-f287-c1d92ea72e94"
      },
      "source": [
        "matches_copy[matches_copy[\"ball\"] == 5.5][\"cumulative\"]"
      ],
      "execution_count": 86,
      "outputs": [
        {
          "output_type": "execute_result",
          "data": {
            "text/plain": [
              "34       47\n",
              "161      56\n",
              "282      46\n",
              "406      42\n",
              "523      31\n",
              "         ..\n",
              "74564    54\n",
              "74661    37\n",
              "74789    64\n",
              "74913    37\n",
              "75040    61\n",
              "Name: cumulative, Length: 630, dtype: int64"
            ]
          },
          "metadata": {
            "tags": []
          },
          "execution_count": 86
        }
      ]
    },
    {
      "cell_type": "code",
      "metadata": {
        "colab": {
          "base_uri": "https://localhost:8080/"
        },
        "id": "PegGpOy6QBBF",
        "outputId": "3fe4acae-7bec-4264-edca-726e66d9804b"
      },
      "source": [
        "# matches[matches_copy[\"ball\"] == 5.5][\"cumulative\"]*246"
      ],
      "execution_count": 87,
      "outputs": [
        {
          "output_type": "stream",
          "text": [
            "/usr/local/lib/python3.7/dist-packages/ipykernel_launcher.py:1: UserWarning: Boolean Series key will be reindexed to match DataFrame index.\n",
            "  \"\"\"Entry point for launching an IPython kernel.\n"
          ],
          "name": "stderr"
        },
        {
          "output_type": "execute_result",
          "data": {
            "text/plain": [
              "34       11562\n",
              "161      13776\n",
              "282      11316\n",
              "406      10332\n",
              "523       7626\n",
              "         ...  \n",
              "73864    12300\n",
              "73988     9348\n",
              "74111     7872\n",
              "74661     9102\n",
              "74789    15744\n",
              "Name: cumulative, Length: 408, dtype: int64"
            ]
          },
          "metadata": {
            "tags": []
          },
          "execution_count": 87
        }
      ]
    },
    {
      "cell_type": "code",
      "metadata": {
        "id": "1mFxPr9nWEHG"
      },
      "source": [
        "# features = [\"venue\" , \"innings\" , \"ball\" , \"batting_team\" , \"bowling_team\" , \"striker\" , \"non_striker\" , \"bowler\" , \"total_runs\" , \"cumulative\"]\n",
        "features = [\"venue\" , \"innings\" , \"ball\" , \"batting_team\" , \"bowling_team\"]\n",
        "\n",
        "# features = [ \"innings\" , \"ball\" , \"total_runs\"]"
      ],
      "execution_count": 154,
      "outputs": []
    },
    {
      "cell_type": "code",
      "metadata": {
        "id": "bMILZ85s14rN"
      },
      "source": [
        "x_train, x_test, y_train, y_test = train_test_split(matches[features] , matches[\"cumulative\"], test_size=0.2, random_state=0)"
      ],
      "execution_count": 155,
      "outputs": []
    },
    {
      "cell_type": "code",
      "metadata": {
        "colab": {
          "base_uri": "https://localhost:8080/"
        },
        "id": "sas68Yvdoy0A",
        "outputId": "8b86300e-efcd-4a5d-da95-b04b8c5377f6"
      },
      "source": [
        "#__Random forest regressor__\n",
        "from sklearn.model_selection import RandomizedSearchCV\n",
        "# Number of trees in random forest\n",
        "n_estimators = [int(x) for x in np.linspace(start = 200, stop = 800, num = 4)]\n",
        "# Number of features to consider at every split\n",
        "max_features = ['auto', 'sqrt']\n",
        "# Maximum number of levels in tree\n",
        "max_depth = [int(x) for x in np.linspace(10, 60, num = 6)]\n",
        "max_depth.append(None)\n",
        "# Minimum number of samples required to split a node\n",
        "min_samples_split = [2, 5, 10]\n",
        "# Minimum number of samples required at each leaf node\n",
        "min_samples_leaf = [1, 2, 4]\n",
        "# Method of selecting samples for training each tree\n",
        "bootstrap = [True, False]\n",
        "# Create the random grid\n",
        "random_grid = {'n_estimators': n_estimators,\n",
        "               'max_features': max_features,\n",
        "               'max_depth': max_depth,\n",
        "               'min_samples_split': min_samples_split,\n",
        "               'min_samples_leaf': min_samples_leaf,\n",
        "               'bootstrap': bootstrap}\n",
        "print(random_grid)\n",
        "\n",
        "from sklearn.ensemble import RandomForestRegressor\n",
        "# Use the random grid to search for best hyperparameters\n",
        "# First create the base model to tune\n",
        "rf = RandomForestRegressor()\n",
        "# Random search of parameters, using 3 fold cross validation, \n",
        "# search across 100 different combinations, and use all available cores\n",
        "rf_random = RandomizedSearchCV(estimator = rf, param_distributions = random_grid, n_iter = 100, cv = 3, verbose=1, random_state=42, n_jobs = -1)\n",
        "# Fit the random search model\n",
        "rf_random.fit(x_train, y_train)\n",
        "\n",
        "print(rf_random.best_params_)\n",
        "prediction = rf_random.predict(x_test)"
      ],
      "execution_count": null,
      "outputs": [
        {
          "output_type": "stream",
          "text": [
            "{'n_estimators': [200, 400, 600, 800], 'max_features': ['auto', 'sqrt'], 'max_depth': [10, 20, 30, 40, 50, 60, None], 'min_samples_split': [2, 5, 10], 'min_samples_leaf': [1, 2, 4], 'bootstrap': [True, False]}\n",
            "Fitting 3 folds for each of 100 candidates, totalling 300 fits\n"
          ],
          "name": "stdout"
        },
        {
          "output_type": "stream",
          "text": [
            "[Parallel(n_jobs=-1)]: Using backend LokyBackend with 2 concurrent workers.\n",
            "[Parallel(n_jobs=-1)]: Done  46 tasks      | elapsed:  3.7min\n",
            "[Parallel(n_jobs=-1)]: Done 196 tasks      | elapsed: 13.8min\n"
          ],
          "name": "stderr"
        }
      ]
    },
    {
      "cell_type": "code",
      "metadata": {
        "id": "D1BXk0EnPaRW"
      },
      "source": [
        "##XGBoost\n",
        "\n",
        "from xgboost import XGBRegressor\n",
        "xgb = XGBRegressor(objective ='reg:linear', colsample_bytree = 0.3, learning_rate = 0.1,\n",
        "                max_depth = 5, alpha = 10, n_estimators = 10)\n",
        "xgb.fit(x_train , y_train)\n",
        "xgb_prediction = xgb.predict(x_test)"
      ],
      "execution_count": null,
      "outputs": []
    },
    {
      "cell_type": "code",
      "metadata": {
        "colab": {
          "base_uri": "https://localhost:8080/"
        },
        "id": "6-kqKP3Su0Ny",
        "outputId": "e56cd948-0510-4a1e-da38-4172790ea188"
      },
      "source": [
        ""
      ],
      "execution_count": 93,
      "outputs": [
        {
          "output_type": "stream",
          "text": [
            "Fitting 3 folds for each of 100 candidates, totalling 300 fits\n"
          ],
          "name": "stdout"
        },
        {
          "output_type": "stream",
          "text": [
            "[Parallel(n_jobs=-1)]: Using backend LokyBackend with 2 concurrent workers.\n",
            "[Parallel(n_jobs=-1)]: Done  46 tasks      | elapsed:  6.8min\n",
            "[Parallel(n_jobs=-1)]: Done 196 tasks      | elapsed: 23.6min\n",
            "[Parallel(n_jobs=-1)]: Done 300 out of 300 | elapsed: 33.4min finished\n"
          ],
          "name": "stderr"
        },
        {
          "output_type": "stream",
          "text": [
            "{'n_estimators': 800, 'min_samples_split': 2, 'min_samples_leaf': 4, 'max_features': 'sqrt', 'max_depth': 10, 'bootstrap': True}\n"
          ],
          "name": "stdout"
        }
      ]
    },
    {
      "cell_type": "code",
      "metadata": {
        "id": "1M2MAdolu5Jt"
      },
      "source": [
        "from sklearn import metrics\n",
        "\n",
        "print(sns.distplot(y_test-prediction))\n",
        "print('MAE:', metrics.mean_absolute_error(y_test, prediction))\n",
        "print('MSE:', metrics.mean_squared_error(y_test, prediction))\n",
        "print('RMSE:', np.sqrt(metrics.mean_squared_error(y_test, prediction)))"
      ],
      "execution_count": null,
      "outputs": []
    },
    {
      "cell_type": "code",
      "metadata": {
        "id": "9SGmtJ29vu5u"
      },
      "source": [
        "print(sns.distplot(y_test-prediction))\n",
        "print('MAE:', metrics.mean_absolute_error(y_test, xgb_prediction))\n",
        "print('MSE:', metrics.mean_squared_error(y_test, xgb_prediction))\n",
        "print('RMSE:', np.sqrt(metrics.mean_squared_error(y_test, xgb_prediction)))"
      ],
      "execution_count": null,
      "outputs": []
    },
    {
      "cell_type": "code",
      "metadata": {
        "id": "dD7A1waAFXIp"
      },
      "source": [
        "import joblib"
      ],
      "execution_count": 98,
      "outputs": []
    },
    {
      "cell_type": "code",
      "metadata": {
        "colab": {
          "base_uri": "https://localhost:8080/"
        },
        "id": "4PbzWxCtGFlP",
        "outputId": "23230468-fa57-4e9f-a7ac-bc960bc1a0ec"
      },
      "source": [
        "joblib.dump(rf_random , \"InitialRandomForest.joblib\")\n",
        "joblib.dump(venue_encoder , \"venue_encoder.joblib\")\n",
        "joblib.dump(batting_team_encoder , \"batting_team_encoder.joblib\")\n",
        "joblib.dump(bowling_team_encoder , \"bowling_team_encoder.joblib\")\n",
        "joblib.dump(striker_encoder , \"striker_encoder .joblib\")\n",
        "joblib.dump(bowler_encoder , \"bowler_encoder.joblib\")\n",
        "joblib.dump(non_striker_encoder , \"non_striker_encoder .joblib\")"
      ],
      "execution_count": 99,
      "outputs": [
        {
          "output_type": "execute_result",
          "data": {
            "text/plain": [
              "['non_striker_encoder .joblib']"
            ]
          },
          "metadata": {
            "tags": []
          },
          "execution_count": 99
        }
      ]
    },
    {
      "cell_type": "code",
      "metadata": {
        "id": "ExiXgyliG_Td"
      },
      "source": [
        "prediction = rf_random.predict(x_test)"
      ],
      "execution_count": 100,
      "outputs": []
    },
    {
      "cell_type": "code",
      "metadata": {
        "id": "ocCSjoDEKB8C"
      },
      "source": [
        "x_test1 = x_test.reset_index(drop = True , inplace = True)"
      ],
      "execution_count": 109,
      "outputs": []
    },
    {
      "cell_type": "code",
      "metadata": {
        "colab": {
          "base_uri": "https://localhost:8080/",
          "height": 419
        },
        "id": "pjve2iWgK-0A",
        "outputId": "029946c7-0793-4275-f6c4-e0732663072b"
      },
      "source": [
        "x_test"
      ],
      "execution_count": 117,
      "outputs": [
        {
          "output_type": "execute_result",
          "data": {
            "text/html": [
              "<div>\n",
              "<style scoped>\n",
              "    .dataframe tbody tr th:only-of-type {\n",
              "        vertical-align: middle;\n",
              "    }\n",
              "\n",
              "    .dataframe tbody tr th {\n",
              "        vertical-align: top;\n",
              "    }\n",
              "\n",
              "    .dataframe thead th {\n",
              "        text-align: right;\n",
              "    }\n",
              "</style>\n",
              "<table border=\"1\" class=\"dataframe\">\n",
              "  <thead>\n",
              "    <tr style=\"text-align: right;\">\n",
              "      <th></th>\n",
              "      <th>venue</th>\n",
              "      <th>innings</th>\n",
              "      <th>ball</th>\n",
              "      <th>batting_team</th>\n",
              "      <th>bowling_team</th>\n",
              "      <th>striker</th>\n",
              "      <th>non_striker</th>\n",
              "      <th>bowler</th>\n",
              "    </tr>\n",
              "  </thead>\n",
              "  <tbody>\n",
              "    <tr>\n",
              "      <th>0</th>\n",
              "      <td>0.368421</td>\n",
              "      <td>1</td>\n",
              "      <td>0.1</td>\n",
              "      <td>0.166667</td>\n",
              "      <td>0.000000</td>\n",
              "      <td>0.288809</td>\n",
              "      <td>0.945455</td>\n",
              "      <td>96</td>\n",
              "    </tr>\n",
              "    <tr>\n",
              "      <th>1</th>\n",
              "      <td>0.368421</td>\n",
              "      <td>1</td>\n",
              "      <td>0.2</td>\n",
              "      <td>0.166667</td>\n",
              "      <td>0.000000</td>\n",
              "      <td>0.057762</td>\n",
              "      <td>0.945455</td>\n",
              "      <td>96</td>\n",
              "    </tr>\n",
              "    <tr>\n",
              "      <th>2</th>\n",
              "      <td>0.368421</td>\n",
              "      <td>1</td>\n",
              "      <td>0.3</td>\n",
              "      <td>0.166667</td>\n",
              "      <td>0.000000</td>\n",
              "      <td>0.942238</td>\n",
              "      <td>0.058182</td>\n",
              "      <td>96</td>\n",
              "    </tr>\n",
              "    <tr>\n",
              "      <th>3</th>\n",
              "      <td>0.368421</td>\n",
              "      <td>1</td>\n",
              "      <td>0.4</td>\n",
              "      <td>0.166667</td>\n",
              "      <td>0.000000</td>\n",
              "      <td>0.942238</td>\n",
              "      <td>0.058182</td>\n",
              "      <td>96</td>\n",
              "    </tr>\n",
              "    <tr>\n",
              "      <th>4</th>\n",
              "      <td>0.368421</td>\n",
              "      <td>1</td>\n",
              "      <td>0.5</td>\n",
              "      <td>0.166667</td>\n",
              "      <td>0.000000</td>\n",
              "      <td>0.942238</td>\n",
              "      <td>0.058182</td>\n",
              "      <td>96</td>\n",
              "    </tr>\n",
              "    <tr>\n",
              "      <th>...</th>\n",
              "      <td>...</td>\n",
              "      <td>...</td>\n",
              "      <td>...</td>\n",
              "      <td>...</td>\n",
              "      <td>...</td>\n",
              "      <td>...</td>\n",
              "      <td>...</td>\n",
              "      <td>...</td>\n",
              "    </tr>\n",
              "    <tr>\n",
              "      <th>3091</th>\n",
              "      <td>1.000000</td>\n",
              "      <td>2</td>\n",
              "      <td>5.2</td>\n",
              "      <td>0.666667</td>\n",
              "      <td>0.333333</td>\n",
              "      <td>0.844765</td>\n",
              "      <td>0.261818</td>\n",
              "      <td>193</td>\n",
              "    </tr>\n",
              "    <tr>\n",
              "      <th>3092</th>\n",
              "      <td>1.000000</td>\n",
              "      <td>2</td>\n",
              "      <td>5.3</td>\n",
              "      <td>0.666667</td>\n",
              "      <td>0.333333</td>\n",
              "      <td>0.844765</td>\n",
              "      <td>0.261818</td>\n",
              "      <td>193</td>\n",
              "    </tr>\n",
              "    <tr>\n",
              "      <th>3093</th>\n",
              "      <td>1.000000</td>\n",
              "      <td>2</td>\n",
              "      <td>5.4</td>\n",
              "      <td>0.666667</td>\n",
              "      <td>0.333333</td>\n",
              "      <td>0.844765</td>\n",
              "      <td>0.261818</td>\n",
              "      <td>193</td>\n",
              "    </tr>\n",
              "    <tr>\n",
              "      <th>3094</th>\n",
              "      <td>1.000000</td>\n",
              "      <td>2</td>\n",
              "      <td>5.5</td>\n",
              "      <td>0.666667</td>\n",
              "      <td>0.333333</td>\n",
              "      <td>0.844765</td>\n",
              "      <td>0.261818</td>\n",
              "      <td>193</td>\n",
              "    </tr>\n",
              "    <tr>\n",
              "      <th>3095</th>\n",
              "      <td>1.000000</td>\n",
              "      <td>2</td>\n",
              "      <td>5.6</td>\n",
              "      <td>0.666667</td>\n",
              "      <td>0.333333</td>\n",
              "      <td>0.844765</td>\n",
              "      <td>0.261818</td>\n",
              "      <td>193</td>\n",
              "    </tr>\n",
              "  </tbody>\n",
              "</table>\n",
              "<p>3096 rows × 8 columns</p>\n",
              "</div>"
            ],
            "text/plain": [
              "         venue  innings  ball  ...   striker  non_striker  bowler\n",
              "0     0.368421        1   0.1  ...  0.288809     0.945455      96\n",
              "1     0.368421        1   0.2  ...  0.057762     0.945455      96\n",
              "2     0.368421        1   0.3  ...  0.942238     0.058182      96\n",
              "3     0.368421        1   0.4  ...  0.942238     0.058182      96\n",
              "4     0.368421        1   0.5  ...  0.942238     0.058182      96\n",
              "...        ...      ...   ...  ...       ...          ...     ...\n",
              "3091  1.000000        2   5.2  ...  0.844765     0.261818     193\n",
              "3092  1.000000        2   5.3  ...  0.844765     0.261818     193\n",
              "3093  1.000000        2   5.4  ...  0.844765     0.261818     193\n",
              "3094  1.000000        2   5.5  ...  0.844765     0.261818     193\n",
              "3095  1.000000        2   5.6  ...  0.844765     0.261818     193\n",
              "\n",
              "[3096 rows x 8 columns]"
            ]
          },
          "metadata": {
            "tags": []
          },
          "execution_count": 117
        }
      ]
    },
    {
      "cell_type": "code",
      "metadata": {
        "id": "NfeptialKDFn"
      },
      "source": [
        "data = np.array([0.473684 , 1 , 0.1 , 0.0 , 0.5 , 0.509025 , 0.490909 , 36])"
      ],
      "execution_count": 133,
      "outputs": []
    },
    {
      "cell_type": "code",
      "metadata": {
        "colab": {
          "base_uri": "https://localhost:8080/"
        },
        "id": "AT9okToRKHpf",
        "outputId": "da950053-2398-4642-e0b0-75a1c1274753"
      },
      "source": [
        "rf_random.predict(data.reshape(1 , -1))"
      ],
      "execution_count": 134,
      "outputs": [
        {
          "output_type": "execute_result",
          "data": {
            "text/plain": [
              "array([22.38293259])"
            ]
          },
          "metadata": {
            "tags": []
          },
          "execution_count": 134
        }
      ]
    },
    {
      "cell_type": "code",
      "metadata": {
        "colab": {
          "base_uri": "https://localhost:8080/",
          "height": 80
        },
        "id": "0241AOaAN-zj",
        "outputId": "5fa96aba-638d-489a-92da-4447b27160d4"
      },
      "source": [
        "matches.head(1)"
      ],
      "execution_count": 132,
      "outputs": [
        {
          "output_type": "execute_result",
          "data": {
            "text/html": [
              "<div>\n",
              "<style scoped>\n",
              "    .dataframe tbody tr th:only-of-type {\n",
              "        vertical-align: middle;\n",
              "    }\n",
              "\n",
              "    .dataframe tbody tr th {\n",
              "        vertical-align: top;\n",
              "    }\n",
              "\n",
              "    .dataframe thead th {\n",
              "        text-align: right;\n",
              "    }\n",
              "</style>\n",
              "<table border=\"1\" class=\"dataframe\">\n",
              "  <thead>\n",
              "    <tr style=\"text-align: right;\">\n",
              "      <th></th>\n",
              "      <th>venue</th>\n",
              "      <th>innings</th>\n",
              "      <th>ball</th>\n",
              "      <th>batting_team</th>\n",
              "      <th>bowling_team</th>\n",
              "      <th>striker</th>\n",
              "      <th>non_striker</th>\n",
              "      <th>bowler</th>\n",
              "      <th>total_runs</th>\n",
              "      <th>cumulative</th>\n",
              "    </tr>\n",
              "  </thead>\n",
              "  <tbody>\n",
              "    <tr>\n",
              "      <th>0</th>\n",
              "      <td>0.473684</td>\n",
              "      <td>1</td>\n",
              "      <td>0.1</td>\n",
              "      <td>0.0</td>\n",
              "      <td>0.5</td>\n",
              "      <td>0.509025</td>\n",
              "      <td>0.490909</td>\n",
              "      <td>35</td>\n",
              "      <td>0</td>\n",
              "      <td>0</td>\n",
              "    </tr>\n",
              "  </tbody>\n",
              "</table>\n",
              "</div>"
            ],
            "text/plain": [
              "      venue  innings  ball  ...  bowler  total_runs  cumulative\n",
              "0  0.473684        1   0.1  ...      35           0           0\n",
              "\n",
              "[1 rows x 10 columns]"
            ]
          },
          "metadata": {
            "tags": []
          },
          "execution_count": 132
        }
      ]
    },
    {
      "cell_type": "code",
      "metadata": {
        "id": "lmGDQD8lON1N"
      },
      "source": [
        ""
      ],
      "execution_count": null,
      "outputs": []
    }
  ]
}