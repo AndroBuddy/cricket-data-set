{
  "nbformat": 4,
  "nbformat_minor": 0,
  "metadata": {
    "colab": {
      "name": "Score_prediction",
      "provenance": [],
      "collapsed_sections": [],
      "authorship_tag": "ABX9TyNyeNSK0UdJ95bWGOkDexES",
      "include_colab_link": true
    },
    "kernelspec": {
      "name": "python3",
      "display_name": "Python 3"
    },
    "language_info": {
      "name": "python"
    },
    "accelerator": "GPU"
  },
  "cells": [
    {
      "cell_type": "markdown",
      "metadata": {
        "id": "view-in-github",
        "colab_type": "text"
      },
      "source": [
        "<a href=\"https://colab.research.google.com/github/AndroBuddy/cricket-data-set/blob/master/Score_prediction.ipynb\" target=\"_parent\"><img src=\"https://colab.research.google.com/assets/colab-badge.svg\" alt=\"Open In Colab\"/></a>"
      ]
    },
    {
      "cell_type": "code",
      "metadata": {
        "colab": {
          "base_uri": "https://localhost:8080/"
        },
        "id": "e9vZ9QEVyQLr",
        "outputId": "056deae9-cd35-4342-8a9f-6218bd02bfae"
      },
      "source": [
        "!git clone https://github.com/AndroBuddy/cricket-data-set.git"
      ],
      "execution_count": null,
      "outputs": [
        {
          "output_type": "stream",
          "text": [
            "fatal: destination path 'cricket-data-set' already exists and is not an empty directory.\n"
          ],
          "name": "stdout"
        }
      ]
    },
    {
      "cell_type": "code",
      "metadata": {
        "id": "igxddvXfySRu"
      },
      "source": [
        "import numpy as np\n",
        "import pandas as pd\n",
        "import matplotlib.pyplot as plt\n",
        "import seaborn as sns\n",
        "from sklearn.preprocessing import LabelEncoder\n",
        "from sklearn.ensemble import RandomForestClassifier\n",
        "from sklearn.linear_model import LogisticRegression\n",
        "from sklearn.model_selection import train_test_split\n",
        "from sklearn.feature_selection import RFE\n",
        "from sklearn.preprocessing import StandardScaler\n",
        "from sklearn.svm import SVC\n",
        "from sklearn.tree import DecisionTreeClassifier\n",
        "# from sklearn.metrics import confusion_matrix, classification_report"
      ],
      "execution_count": null,
      "outputs": []
    },
    {
      "cell_type": "code",
      "metadata": {
        "colab": {
          "base_uri": "https://localhost:8080/"
        },
        "id": "lGhNGzeWK3B7",
        "outputId": "220757c1-1bf9-4e46-f00b-298ead0181ce"
      },
      "source": [
        "import pandas as pd\n",
        "import glob\n",
        "\n",
        "path = r'/content/cricket-data-set' # use your path\n",
        "all_files = glob.glob(path + \"/*.csv\")\n",
        "\n",
        "li = []\n",
        "\n",
        "for filename in all_files:\n",
        "    matches = pd.read_csv(filename, index_col=None, header=0)\n",
        "    matches[\"total_runs\"] = matches.runs_off_bat + matches.extras\n",
        "    column = pd.unique(matches[\"batting_team\"])\n",
        "    df = matches.groupby(matches[\"batting_team\"])\n",
        "    try:\n",
        "      df1 = df.get_group(column[0])\n",
        "      df2 = df.get_group(column[1])\n",
        "\n",
        "      df1[\"cumulative\"] = df1[\"total_runs\"].cumsum()\n",
        "      df2[\"cumulative\"] = df2[\"total_runs\"].cumsum()\n",
        "\n",
        "      matches = pd.concat([df1,df2])\n",
        "      li.append(matches)\n",
        "    except:\n",
        "      print(filename)\n",
        "      print(\"HELOOOOOOOOOOOOOOOOOOOOOOOOOOOOOOOOOOOOOOOOOOOO\") ## one of the files : 501265 has some error\n",
        "      continue\n",
        "\n",
        "matches = pd.concat(li, axis=0, ignore_index=True)"
      ],
      "execution_count": null,
      "outputs": [
        {
          "output_type": "stream",
          "text": [
            "/usr/local/lib/python3.7/dist-packages/ipykernel_launcher.py:18: SettingWithCopyWarning: \n",
            "A value is trying to be set on a copy of a slice from a DataFrame.\n",
            "Try using .loc[row_indexer,col_indexer] = value instead\n",
            "\n",
            "See the caveats in the documentation: https://pandas.pydata.org/pandas-docs/stable/user_guide/indexing.html#returning-a-view-versus-a-copy\n",
            "/usr/local/lib/python3.7/dist-packages/ipykernel_launcher.py:19: SettingWithCopyWarning: \n",
            "A value is trying to be set on a copy of a slice from a DataFrame.\n",
            "Try using .loc[row_indexer,col_indexer] = value instead\n",
            "\n",
            "See the caveats in the documentation: https://pandas.pydata.org/pandas-docs/stable/user_guide/indexing.html#returning-a-view-versus-a-copy\n"
          ],
          "name": "stderr"
        },
        {
          "output_type": "stream",
          "text": [
            "/content/cricket-data-set/501265.csv\n",
            "HELOOOOOOOOOOOOOOOOOOOOOOOOOOOOOOOOOOOOOOOOOOOO\n"
          ],
          "name": "stdout"
        }
      ]
    },
    {
      "cell_type": "code",
      "metadata": {
        "id": "dJm8ztnYiDea"
      },
      "source": [
        "matches_copy = matches.copy()"
      ],
      "execution_count": null,
      "outputs": []
    },
    {
      "cell_type": "code",
      "metadata": {
        "colab": {
          "base_uri": "https://localhost:8080/"
        },
        "id": "XhYKH_C-LPD7",
        "outputId": "4bb96f46-042f-4470-b2f6-12f4874b5de7"
      },
      "source": [
        "matches.season.iloc[0]"
      ],
      "execution_count": null,
      "outputs": [
        {
          "output_type": "execute_result",
          "data": {
            "text/plain": [
              "2012"
            ]
          },
          "metadata": {
            "tags": []
          },
          "execution_count": 139
        }
      ]
    },
    {
      "cell_type": "code",
      "metadata": {
        "id": "sTnsM0nizMzy"
      },
      "source": [
        "matches  = matches.drop(columns = [\"season\" , \"match_id\" , \"start_date\" , \"wicket_type\" , \"player_dismissed\" , \"other_wicket_type\" , \"other_player_dismissed\"])"
      ],
      "execution_count": null,
      "outputs": []
    },
    {
      "cell_type": "code",
      "metadata": {
        "id": "A--CurizY4Lc"
      },
      "source": [
        "matches  = matches.drop(columns = [\"runs_off_bat\" , \"extras\" , \"wides\" , \"noballs\" , \"byes\" , \"legbyes\" , \"penalty\"])"
      ],
      "execution_count": null,
      "outputs": []
    },
    {
      "cell_type": "code",
      "metadata": {
        "colab": {
          "base_uri": "https://localhost:8080/"
        },
        "id": "cSiDDkrgyq1t",
        "outputId": "9affc282-20a9-4ac1-d329-c46aae3e268b"
      },
      "source": [
        "matches.columns"
      ],
      "execution_count": null,
      "outputs": [
        {
          "output_type": "execute_result",
          "data": {
            "text/plain": [
              "Index(['venue', 'innings', 'ball', 'batting_team', 'bowling_team', 'striker',\n",
              "       'non_striker', 'bowler', 'total_runs', 'cumulative'],\n",
              "      dtype='object')"
            ]
          },
          "metadata": {
            "tags": []
          },
          "execution_count": 142
        }
      ]
    },
    {
      "cell_type": "code",
      "metadata": {
        "colab": {
          "base_uri": "https://localhost:8080/"
        },
        "id": "OaRf9_BNdV5i",
        "outputId": "26209619-49b3-4aa9-9316-c6659c1ec485"
      },
      "source": [
        "pd.unique(matches[\"venue\"])"
      ],
      "execution_count": null,
      "outputs": [
        {
          "output_type": "execute_result",
          "data": {
            "text/plain": [
              "array(['MA Chidambaram Stadium, Chepauk', 'Sawai Mansingh Stadium',\n",
              "       'M Chinnaswamy Stadium', 'Eden Gardens',\n",
              "       'Dr DY Patil Sports Academy', 'New Wanderers Stadium',\n",
              "       'Brabourne Stadium', 'Subrata Roy Sahara Stadium',\n",
              "       'Punjab Cricket Association Stadium, Mohali', 'Kingsmead',\n",
              "       'SuperSport Park', 'Himachal Pradesh Cricket Association Stadium',\n",
              "       'Rajiv Gandhi International Stadium, Uppal', 'Feroz Shah Kotla',\n",
              "       'Newlands', 'Wankhede Stadium', 'De Beers Diamond Oval',\n",
              "       'Barabati Stadium', 'Nehru Stadium', 'Buffalo Park',\n",
              "       'Sardar Patel Stadium, Motera', 'Holkar Cricket Stadium',\n",
              "       'Dr. Y.S. Rajasekhara Reddy ACA-VDCA Cricket Stadium',\n",
              "       'Vidarbha Cricket Association Stadium, Jamtha', \"St George's Park\",\n",
              "       'OUTsurance Oval'], dtype=object)"
            ]
          },
          "metadata": {
            "tags": []
          },
          "execution_count": 143
        }
      ]
    },
    {
      "cell_type": "code",
      "metadata": {
        "id": "4hr6LpVzlOuI"
      },
      "source": [
        "current_teams = ['Kolkata Knight Riders', 'Chennai Super Kings', 'Rajasthan Royals', 'Mumbai Indians', 'Kings XI Punjab', 'Royal Challengers Bangalore', 'Delhi Daredevils', 'Sunrisers Hyderabad']"
      ],
      "execution_count": null,
      "outputs": []
    },
    {
      "cell_type": "code",
      "metadata": {
        "id": "YdiyiZeolTF4"
      },
      "source": [
        "matches = matches[(matches['batting_team'].isin(current_teams)) & (matches['bowling_team'].isin(current_teams))]"
      ],
      "execution_count": null,
      "outputs": []
    },
    {
      "cell_type": "code",
      "metadata": {
        "colab": {
          "base_uri": "https://localhost:8080/"
        },
        "id": "rd7hthJplW5j",
        "outputId": "4ad57a58-fdf1-402c-b111-97732351c241"
      },
      "source": [
        "pd.unique(matches[\"batting_team\"])"
      ],
      "execution_count": null,
      "outputs": [
        {
          "output_type": "execute_result",
          "data": {
            "text/plain": [
              "array(['Chennai Super Kings', 'Kolkata Knight Riders', 'Rajasthan Royals',\n",
              "       'Mumbai Indians', 'Royal Challengers Bangalore',\n",
              "       'Delhi Daredevils', 'Kings XI Punjab'], dtype=object)"
            ]
          },
          "metadata": {
            "tags": []
          },
          "execution_count": 146
        }
      ]
    },
    {
      "cell_type": "code",
      "metadata": {
        "colab": {
          "base_uri": "https://localhost:8080/"
        },
        "id": "dtmVZniYliHo",
        "outputId": "b81930c8-c2c7-4335-9e27-21fa1f2d5bee"
      },
      "source": [
        "matches.columns"
      ],
      "execution_count": null,
      "outputs": [
        {
          "output_type": "execute_result",
          "data": {
            "text/plain": [
              "Index(['venue', 'innings', 'ball', 'batting_team', 'bowling_team', 'striker',\n",
              "       'non_striker', 'bowler', 'total_runs', 'cumulative'],\n",
              "      dtype='object')"
            ]
          },
          "metadata": {
            "tags": []
          },
          "execution_count": 147
        }
      ]
    },
    {
      "cell_type": "code",
      "metadata": {
        "id": "pcGkVv0E1BN8"
      },
      "source": [
        "venue_encoder = LabelEncoder()\n",
        "matches[\"venue\"] = venue_encoder.fit_transform(matches[\"venue\"])\n",
        "batting_team_encoder = LabelEncoder()\n",
        "matches[\"batting_team\"] = batting_team_encoder.fit_transform(matches[\"batting_team\"])\n",
        "bowling_team_encoder = LabelEncoder()\n",
        "matches[\"bowling_team\"] = bowling_team_encoder.fit_transform(matches[\"bowling_team\"])\n",
        "striker_encoder = LabelEncoder()\n",
        "matches[\"striker\"] = striker_encoder.fit_transform(matches[\"striker\"])\n",
        "non_striker_encoder = LabelEncoder()\n",
        "matches[\"non_striker\"] = non_striker_encoder.fit_transform(matches[\"non_striker\"])\n",
        "bowler_encoder = LabelEncoder()\n",
        "matches[\"bowler\"] = bowler_encoder.fit_transform(matches[\"bowler\"])"
      ],
      "execution_count": null,
      "outputs": []
    },
    {
      "cell_type": "code",
      "metadata": {
        "id": "D0kb_MEwlL_c"
      },
      "source": [
        ""
      ],
      "execution_count": null,
      "outputs": []
    },
    {
      "cell_type": "code",
      "metadata": {
        "colab": {
          "base_uri": "https://localhost:8080/"
        },
        "id": "D8gQDmbPe3iW",
        "outputId": "bd6faa51-4533-4597-8a1b-c940c58ade56"
      },
      "source": [
        "matches.columns"
      ],
      "execution_count": null,
      "outputs": [
        {
          "output_type": "execute_result",
          "data": {
            "text/plain": [
              "Index(['venue', 'innings', 'ball', 'batting_team', 'bowling_team', 'striker',\n",
              "       'non_striker', 'bowler', 'total_runs', 'cumulative'],\n",
              "      dtype='object')"
            ]
          },
          "metadata": {
            "tags": []
          },
          "execution_count": 149
        }
      ]
    },
    {
      "cell_type": "code",
      "metadata": {
        "id": "oREgU0YX1xc3"
      },
      "source": [
        ""
      ],
      "execution_count": null,
      "outputs": []
    },
    {
      "cell_type": "code",
      "metadata": {
        "colab": {
          "base_uri": "https://localhost:8080/"
        },
        "id": "qVQqM2vANQQ0",
        "outputId": "cc62a40a-1e3e-4b02-c469-d3ec19bd93b6"
      },
      "source": [
        "matches_copy['count'] = 1\n",
        "matches_copy.groupby(['venue']).count()['count']"
      ],
      "execution_count": null,
      "outputs": [
        {
          "output_type": "execute_result",
          "data": {
            "text/plain": [
              "venue\n",
              "Barabati Stadium                                        973\n",
              "Brabourne Stadium                                      1720\n",
              "Buffalo Park                                            715\n",
              "De Beers Diamond Oval                                   726\n",
              "Dr DY Patil Sports Academy                             3993\n",
              "Dr. Y.S. Rajasekhara Reddy ACA-VDCA Cricket Stadium     476\n",
              "Eden Gardens                                           6451\n",
              "Feroz Shah Kotla                                       6160\n",
              "Himachal Pradesh Cricket Association Stadium           1673\n",
              "Holkar Cricket Stadium                                  408\n",
              "Kingsmead                                              3643\n",
              "M Chinnaswamy Stadium                                  6398\n",
              "MA Chidambaram Stadium, Chepauk                        8050\n",
              "Nehru Stadium                                          1155\n",
              "New Wanderers Stadium                                  1940\n",
              "Newlands                                               1539\n",
              "OUTsurance Oval                                         500\n",
              "Punjab Cricket Association Stadium, Mohali             5043\n",
              "Rajiv Gandhi International Stadium, Uppal              4344\n",
              "Sardar Patel Stadium, Motera                            945\n",
              "Sawai Mansingh Stadium                                 5709\n",
              "St George's Park                                       1677\n",
              "Subrata Roy Sahara Stadium                             2165\n",
              "SuperSport Park                                        2866\n",
              "Vidarbha Cricket Association Stadium, Jamtha            742\n",
              "Wankhede Stadium                                       5119\n",
              "Name: count, dtype: int64"
            ]
          },
          "metadata": {
            "tags": []
          },
          "execution_count": 150
        }
      ]
    },
    {
      "cell_type": "code",
      "metadata": {
        "colab": {
          "base_uri": "https://localhost:8080/"
        },
        "id": "wKXCm_z83RbI",
        "outputId": "a5ea793e-21e4-47f6-d731-11b994f896cf"
      },
      "source": [
        "matches.columns"
      ],
      "execution_count": null,
      "outputs": [
        {
          "output_type": "execute_result",
          "data": {
            "text/plain": [
              "Index(['venue', 'innings', 'ball', 'batting_team', 'bowling_team', 'striker',\n",
              "       'non_striker', 'bowler', 'total_runs', 'cumulative'],\n",
              "      dtype='object')"
            ]
          },
          "metadata": {
            "tags": []
          },
          "execution_count": 151
        }
      ]
    },
    {
      "cell_type": "code",
      "metadata": {
        "id": "E3iNrwN3i6iM"
      },
      "source": [
        "matches = matches[matches[\"ball\"] < 6]"
      ],
      "execution_count": null,
      "outputs": []
    },
    {
      "cell_type": "code",
      "metadata": {
        "id": "uzTo-bTt3Mvg"
      },
      "source": [
        "##Standardisation\n",
        "matches[\"venue\"] = matches[\"venue\"] / max(matches[\"venue\"])\n",
        "# matches[\"ball\"] = matches[\"ball\"] / 6\n",
        "matches[\"batting_team\"] = matches_copy[\"batting_team\"] / max(matches[\"batting_team\"])\n",
        "matches[\"bowling_team\"] = matches[\"bowling_team\"] / max(matches[\"bowling_team\"])\n",
        "matches[\"striker\"] = matches[\"striker\"] / max(matches[\"striker\"])\n",
        "matches[\"non_striker\"] = matches[\"non_striker\"] / max(matches[\"non_striker\"])\n",
        "# matches[\"cumulative\"] = matches[\"cumulative\"] / max(matches[\"cumulative\"])"
      ],
      "execution_count": null,
      "outputs": []
    },
    {
      "cell_type": "code",
      "metadata": {
        "colab": {
          "base_uri": "https://localhost:8080/"
        },
        "id": "bCWY2HND4p7I",
        "outputId": "b2c3a7a4-0ffc-45b4-f287-c1d92ea72e94"
      },
      "source": [
        "matches_copy[matches_copy[\"ball\"] == 5.5][\"cumulative\"]"
      ],
      "execution_count": null,
      "outputs": [
        {
          "output_type": "execute_result",
          "data": {
            "text/plain": [
              "34       47\n",
              "161      56\n",
              "282      46\n",
              "406      42\n",
              "523      31\n",
              "         ..\n",
              "74564    54\n",
              "74661    37\n",
              "74789    64\n",
              "74913    37\n",
              "75040    61\n",
              "Name: cumulative, Length: 630, dtype: int64"
            ]
          },
          "metadata": {
            "tags": []
          },
          "execution_count": 86
        }
      ]
    },
    {
      "cell_type": "code",
      "metadata": {
        "colab": {
          "base_uri": "https://localhost:8080/"
        },
        "id": "PegGpOy6QBBF",
        "outputId": "3fe4acae-7bec-4264-edca-726e66d9804b"
      },
      "source": [
        "# matches[matches_copy[\"ball\"] == 5.5][\"cumulative\"]*246"
      ],
      "execution_count": null,
      "outputs": [
        {
          "output_type": "stream",
          "text": [
            "/usr/local/lib/python3.7/dist-packages/ipykernel_launcher.py:1: UserWarning: Boolean Series key will be reindexed to match DataFrame index.\n",
            "  \"\"\"Entry point for launching an IPython kernel.\n"
          ],
          "name": "stderr"
        },
        {
          "output_type": "execute_result",
          "data": {
            "text/plain": [
              "34       11562\n",
              "161      13776\n",
              "282      11316\n",
              "406      10332\n",
              "523       7626\n",
              "         ...  \n",
              "73864    12300\n",
              "73988     9348\n",
              "74111     7872\n",
              "74661     9102\n",
              "74789    15744\n",
              "Name: cumulative, Length: 408, dtype: int64"
            ]
          },
          "metadata": {
            "tags": []
          },
          "execution_count": 87
        }
      ]
    },
    {
      "cell_type": "code",
      "metadata": {
        "id": "1mFxPr9nWEHG"
      },
      "source": [
        "# features = [\"venue\" , \"innings\" , \"ball\" , \"batting_team\" , \"bowling_team\" , \"striker\" , \"non_striker\" , \"bowler\" , \"total_runs\" , \"cumulative\"]\n",
        "features = [\"venue\" , \"innings\" , \"ball\" , \"batting_team\" , \"bowling_team\"]\n",
        "\n",
        "# features = [ \"innings\" , \"ball\" , \"total_runs\"]"
      ],
      "execution_count": null,
      "outputs": []
    },
    {
      "cell_type": "code",
      "metadata": {
        "id": "bMILZ85s14rN"
      },
      "source": [
        "x_train, x_test, y_train, y_test = train_test_split(matches[features] , matches[\"cumulative\"], test_size=0.2, random_state=0)"
      ],
      "execution_count": null,
      "outputs": []
    },
    {
      "cell_type": "code",
      "metadata": {
        "colab": {
          "base_uri": "https://localhost:8080/"
        },
        "id": "sas68Yvdoy0A",
        "outputId": "8b86300e-efcd-4a5d-da95-b04b8c5377f6"
      },
      "source": [
        "#__Random forest regressor__\n",
        "from sklearn.model_selection import RandomizedSearchCV\n",
        "# Number of trees in random forest\n",
        "n_estimators = [int(x) for x in np.linspace(start = 200, stop = 800, num = 4)]\n",
        "# Number of features to consider at every split\n",
        "max_features = ['auto', 'sqrt']\n",
        "# Maximum number of levels in tree\n",
        "max_depth = [int(x) for x in np.linspace(10, 60, num = 6)]\n",
        "max_depth.append(None)\n",
        "# Minimum number of samples required to split a node\n",
        "min_samples_split = [2, 5, 10]\n",
        "# Minimum number of samples required at each leaf node\n",
        "min_samples_leaf = [1, 2, 4]\n",
        "# Method of selecting samples for training each tree\n",
        "bootstrap = [True, False]\n",
        "# Create the random grid\n",
        "random_grid = {'n_estimators': n_estimators,\n",
        "               'max_features': max_features,\n",
        "               'max_depth': max_depth,\n",
        "               'min_samples_split': min_samples_split,\n",
        "               'min_samples_leaf': min_samples_leaf,\n",
        "               'bootstrap': bootstrap}\n",
        "print(random_grid)\n",
        "\n",
        "from sklearn.ensemble import RandomForestRegressor\n",
        "# Use the random grid to search for best hyperparameters\n",
        "# First create the base model to tune\n",
        "rf = RandomForestRegressor()\n",
        "# Random search of parameters, using 3 fold cross validation, \n",
        "# search across 100 different combinations, and use all available cores\n",
        "rf_random = RandomizedSearchCV(estimator = rf, param_distributions = random_grid, n_iter = 100, cv = 3, verbose=1, random_state=42, n_jobs = -1)\n",
        "# Fit the random search model\n",
        "rf_random.fit(x_train, y_train)\n",
        "\n",
        "print(rf_random.best_params_)\n",
        "prediction = rf_random.predict(x_test)"
      ],
      "execution_count": null,
      "outputs": [
        {
          "output_type": "stream",
          "text": [
            "{'n_estimators': [200, 400, 600, 800], 'max_features': ['auto', 'sqrt'], 'max_depth': [10, 20, 30, 40, 50, 60, None], 'min_samples_split': [2, 5, 10], 'min_samples_leaf': [1, 2, 4], 'bootstrap': [True, False]}\n",
            "Fitting 3 folds for each of 100 candidates, totalling 300 fits\n"
          ],
          "name": "stdout"
        },
        {
          "output_type": "stream",
          "text": [
            "[Parallel(n_jobs=-1)]: Using backend LokyBackend with 2 concurrent workers.\n",
            "[Parallel(n_jobs=-1)]: Done  46 tasks      | elapsed:  3.7min\n",
            "[Parallel(n_jobs=-1)]: Done 196 tasks      | elapsed: 13.8min\n",
            "[Parallel(n_jobs=-1)]: Done 300 out of 300 | elapsed: 20.2min finished\n"
          ],
          "name": "stderr"
        },
        {
          "output_type": "stream",
          "text": [
            "{'n_estimators': 400, 'min_samples_split': 10, 'min_samples_leaf': 1, 'max_features': 'sqrt', 'max_depth': 20, 'bootstrap': False}\n"
          ],
          "name": "stdout"
        }
      ]
    },
    {
      "cell_type": "code",
      "metadata": {
        "colab": {
          "base_uri": "https://localhost:8080/"
        },
        "id": "D1BXk0EnPaRW",
        "outputId": "083b7a73-d365-4c25-b7a8-f3a7019a19c4"
      },
      "source": [
        "##XGBoost\n",
        "\n",
        "from xgboost import XGBRegressor\n",
        "xgb = XGBRegressor(objective ='reg:linear', colsample_bytree = 0.3, learning_rate = 0.1,\n",
        "                max_depth = 5, alpha = 10, n_estimators = 10)\n",
        "xgb.fit(x_train , y_train)\n",
        "xgb_prediction = xgb.predict(x_test)"
      ],
      "execution_count": null,
      "outputs": [
        {
          "output_type": "stream",
          "text": [
            "[18:55:01] WARNING: /workspace/src/objective/regression_obj.cu:152: reg:linear is now deprecated in favor of reg:squarederror.\n"
          ],
          "name": "stdout"
        }
      ]
    },
    {
      "cell_type": "code",
      "metadata": {
        "colab": {
          "base_uri": "https://localhost:8080/"
        },
        "id": "6-kqKP3Su0Ny",
        "outputId": "e56cd948-0510-4a1e-da38-4172790ea188"
      },
      "source": [
        ""
      ],
      "execution_count": null,
      "outputs": [
        {
          "output_type": "stream",
          "text": [
            "Fitting 3 folds for each of 100 candidates, totalling 300 fits\n"
          ],
          "name": "stdout"
        },
        {
          "output_type": "stream",
          "text": [
            "[Parallel(n_jobs=-1)]: Using backend LokyBackend with 2 concurrent workers.\n",
            "[Parallel(n_jobs=-1)]: Done  46 tasks      | elapsed:  6.8min\n",
            "[Parallel(n_jobs=-1)]: Done 196 tasks      | elapsed: 23.6min\n",
            "[Parallel(n_jobs=-1)]: Done 300 out of 300 | elapsed: 33.4min finished\n"
          ],
          "name": "stderr"
        },
        {
          "output_type": "stream",
          "text": [
            "{'n_estimators': 800, 'min_samples_split': 2, 'min_samples_leaf': 4, 'max_features': 'sqrt', 'max_depth': 10, 'bootstrap': True}\n"
          ],
          "name": "stdout"
        }
      ]
    },
    {
      "cell_type": "code",
      "metadata": {
        "colab": {
          "base_uri": "https://localhost:8080/",
          "height": 401
        },
        "id": "1M2MAdolu5Jt",
        "outputId": "da4f06f5-445f-446d-ac16-008e19625414"
      },
      "source": [
        "from sklearn import metrics\n",
        "\n",
        "print(sns.distplot(y_test-prediction))\n",
        "print('MAE:', metrics.mean_absolute_error(y_test, prediction))\n",
        "print('MSE:', metrics.mean_squared_error(y_test, prediction))\n",
        "print('RMSE:', np.sqrt(metrics.mean_squared_error(y_test, prediction)))"
      ],
      "execution_count": null,
      "outputs": [
        {
          "output_type": "stream",
          "text": [
            "/usr/local/lib/python3.7/dist-packages/seaborn/distributions.py:2557: FutureWarning: `distplot` is a deprecated function and will be removed in a future version. Please adapt your code to use either `displot` (a figure-level function with similar flexibility) or `histplot` (an axes-level function for histograms).\n",
            "  warnings.warn(msg, FutureWarning)\n"
          ],
          "name": "stderr"
        },
        {
          "output_type": "stream",
          "text": [
            "AxesSubplot(0.125,0.125;0.775x0.755)\n",
            "MAE: 4.617372771945046\n",
            "MSE: 41.54498107068064\n",
            "RMSE: 6.445539626026718\n"
          ],
          "name": "stdout"
        },
        {
          "output_type": "display_data",
          "data": {
            "image/png": "[encoded data removed]",
            "text/plain": [
              "<Figure size 432x288 with 1 Axes>"
            ]
          },
          "metadata": {
            "tags": [],
            "needs_background": "light"
          }
        }
      ]
    },
    {
      "cell_type": "code",
      "metadata": {
        "colab": {
          "base_uri": "https://localhost:8080/",
          "height": 401
        },
        "id": "9SGmtJ29vu5u",
        "outputId": "9886cd44-468d-4d9b-e90b-b6742c21fbc2"
      },
      "source": [
        "print(sns.distplot(y_test-xgb_prediction))\n",
        "print('MAE:', metrics.mean_absolute_error(y_test, xgb_prediction))\n",
        "print('MSE:', metrics.mean_squared_error(y_test, xgb_prediction))\n",
        "print('RMSE:', np.sqrt(metrics.mean_squared_error(y_test, xgb_prediction)))"
      ],
      "execution_count": null,
      "outputs": [
        {
          "output_type": "stream",
          "text": [
            "/usr/local/lib/python3.7/dist-packages/seaborn/distributions.py:2557: FutureWarning: `distplot` is a deprecated function and will be removed in a future version. Please adapt your code to use either `displot` (a figure-level function with similar flexibility) or `histplot` (an axes-level function for histograms).\n",
            "  warnings.warn(msg, FutureWarning)\n"
          ],
          "name": "stderr"
        },
        {
          "output_type": "stream",
          "text": [
            "AxesSubplot(0.125,0.125;0.775x0.755)\n",
            "MAE: 10.1671953372253\n",
            "MSE: 208.86815063865637\n",
            "RMSE: 14.452271469864396\n"
          ],
          "name": "stdout"
        },
        {
          "output_type": "display_data",
          "data": {
            "image/png": "[encoded data removed]",
            "text/plain": [
              "<Figure size 432x288 with 1 Axes>"
            ]
          },
          "metadata": {
            "tags": [],
            "needs_background": "light"
          }
        }
      ]
    },
    {
      "cell_type": "code",
      "metadata": {
        "colab": {
          "base_uri": "https://localhost:8080/"
        },
        "id": "VWVRDNN-d9Iv",
        "outputId": "c06e0a8b-53d7-4f12-81ea-d1e5b746d52d"
      },
      "source": [
        "from sklearn.metrics import r2_score\n",
        "print(r2_score(y_test , prediction))\n",
        "print(r2_score(y_test , xgb_prediction))"
      ],
      "execution_count": null,
      "outputs": [
        {
          "output_type": "stream",
          "text": [
            "0.8403865404993888\n",
            "0.19754041899279262\n"
          ],
          "name": "stdout"
        }
      ]
    },
    {
      "cell_type": "code",
      "metadata": {
        "id": "dD7A1waAFXIp"
      },
      "source": [
        "import joblib"
      ],
      "execution_count": null,
      "outputs": []
    },
    {
      "cell_type": "code",
      "metadata": {
        "colab": {
          "base_uri": "https://localhost:8080/"
        },
        "id": "4PbzWxCtGFlP",
        "outputId": "f6d9d61f-4066-4f1a-91d8-06469b9a9608"
      },
      "source": [
        "joblib.dump(rf_random , \"FewFeaturesRandomForest_BetterThanThePrevious.joblib\")\n",
        "# joblib.dump(venue_encoder , \"venue_encoder.joblib\")\n",
        "# joblib.dump(batting_team_encoder , \"batting_team_encoder.joblib\")\n",
        "# joblib.dump(bowling_team_encoder , \"bowling_team_encoder.joblib\")\n",
        "# joblib.dump(striker_encoder , \"striker_encoder .joblib\")\n",
        "# joblib.dump(bowler_encoder , \"bowler_encoder.joblib\")\n",
        "# joblib.dump(non_striker_encoder , \"non_striker_encoder .joblib\")"
      ],
      "execution_count": null,
      "outputs": [
        {
          "output_type": "execute_result",
          "data": {
            "text/plain": [
              "['FewFeaturesRandomForest_BetterThanThePrevious.joblib']"
            ]
          },
          "metadata": {
            "tags": []
          },
          "execution_count": 177
        }
      ]
    },
    {
      "cell_type": "code",
      "metadata": {
        "id": "ExiXgyliG_Td"
      },
      "source": [
        "prediction = rf_random.predict(x_test)"
      ],
      "execution_count": null,
      "outputs": []
    },
    {
      "cell_type": "code",
      "metadata": {
        "id": "ocCSjoDEKB8C"
      },
      "source": [
        "x_test1 = x_test.reset_index(drop = True , inplace = True)"
      ],
      "execution_count": null,
      "outputs": []
    },
    {
      "cell_type": "code",
      "metadata": {
        "colab": {
          "base_uri": "https://localhost:8080/",
          "height": 419
        },
        "id": "pjve2iWgK-0A",
        "outputId": "b7833261-c1b7-4369-cbdf-519eb96ba7f6"
      },
      "source": [
        "x_test"
      ],
      "execution_count": null,
      "outputs": [
        {
          "output_type": "execute_result",
          "data": {
            "text/html": [
              "<div>\n",
              "<style scoped>\n",
              "    .dataframe tbody tr th:only-of-type {\n",
              "        vertical-align: middle;\n",
              "    }\n",
              "\n",
              "    .dataframe tbody tr th {\n",
              "        vertical-align: top;\n",
              "    }\n",
              "\n",
              "    .dataframe thead th {\n",
              "        text-align: right;\n",
              "    }\n",
              "</style>\n",
              "<table border=\"1\" class=\"dataframe\">\n",
              "  <thead>\n",
              "    <tr style=\"text-align: right;\">\n",
              "      <th></th>\n",
              "      <th>venue</th>\n",
              "      <th>innings</th>\n",
              "      <th>ball</th>\n",
              "      <th>batting_team</th>\n",
              "      <th>bowling_team</th>\n",
              "    </tr>\n",
              "  </thead>\n",
              "  <tbody>\n",
              "    <tr>\n",
              "      <th>64849</th>\n",
              "      <td>3</td>\n",
              "      <td>2</td>\n",
              "      <td>0.3</td>\n",
              "      <td>1</td>\n",
              "      <td>4</td>\n",
              "    </tr>\n",
              "    <tr>\n",
              "      <th>7417</th>\n",
              "      <td>5</td>\n",
              "      <td>1</td>\n",
              "      <td>1.6</td>\n",
              "      <td>1</td>\n",
              "      <td>4</td>\n",
              "    </tr>\n",
              "    <tr>\n",
              "      <th>63422</th>\n",
              "      <td>4</td>\n",
              "      <td>2</td>\n",
              "      <td>0.5</td>\n",
              "      <td>3</td>\n",
              "      <td>5</td>\n",
              "    </tr>\n",
              "    <tr>\n",
              "      <th>50820</th>\n",
              "      <td>11</td>\n",
              "      <td>1</td>\n",
              "      <td>5.1</td>\n",
              "      <td>6</td>\n",
              "      <td>5</td>\n",
              "    </tr>\n",
              "    <tr>\n",
              "      <th>4783</th>\n",
              "      <td>8</td>\n",
              "      <td>1</td>\n",
              "      <td>4.5</td>\n",
              "      <td>5</td>\n",
              "      <td>6</td>\n",
              "    </tr>\n",
              "    <tr>\n",
              "      <th>...</th>\n",
              "      <td>...</td>\n",
              "      <td>...</td>\n",
              "      <td>...</td>\n",
              "      <td>...</td>\n",
              "      <td>...</td>\n",
              "    </tr>\n",
              "    <tr>\n",
              "      <th>28170</th>\n",
              "      <td>9</td>\n",
              "      <td>1</td>\n",
              "      <td>3.8</td>\n",
              "      <td>0</td>\n",
              "      <td>1</td>\n",
              "    </tr>\n",
              "    <tr>\n",
              "      <th>25483</th>\n",
              "      <td>15</td>\n",
              "      <td>1</td>\n",
              "      <td>5.2</td>\n",
              "      <td>6</td>\n",
              "      <td>5</td>\n",
              "    </tr>\n",
              "    <tr>\n",
              "      <th>54383</th>\n",
              "      <td>15</td>\n",
              "      <td>1</td>\n",
              "      <td>2.4</td>\n",
              "      <td>4</td>\n",
              "      <td>5</td>\n",
              "    </tr>\n",
              "    <tr>\n",
              "      <th>50795</th>\n",
              "      <td>11</td>\n",
              "      <td>1</td>\n",
              "      <td>0.6</td>\n",
              "      <td>6</td>\n",
              "      <td>5</td>\n",
              "    </tr>\n",
              "    <tr>\n",
              "      <th>34041</th>\n",
              "      <td>18</td>\n",
              "      <td>2</td>\n",
              "      <td>2.5</td>\n",
              "      <td>6</td>\n",
              "      <td>3</td>\n",
              "    </tr>\n",
              "  </tbody>\n",
              "</table>\n",
              "<p>3096 rows × 5 columns</p>\n",
              "</div>"
            ],
            "text/plain": [
              "       venue  innings  ball  batting_team  bowling_team\n",
              "64849      3        2   0.3             1             4\n",
              "7417       5        1   1.6             1             4\n",
              "63422      4        2   0.5             3             5\n",
              "50820     11        1   5.1             6             5\n",
              "4783       8        1   4.5             5             6\n",
              "...      ...      ...   ...           ...           ...\n",
              "28170      9        1   3.8             0             1\n",
              "25483     15        1   5.2             6             5\n",
              "54383     15        1   2.4             4             5\n",
              "50795     11        1   0.6             6             5\n",
              "34041     18        2   2.5             6             3\n",
              "\n",
              "[3096 rows x 5 columns]"
            ]
          },
          "metadata": {
            "tags": []
          },
          "execution_count": 163
        }
      ]
    },
    {
      "cell_type": "code",
      "metadata": {
        "colab": {
          "base_uri": "https://localhost:8080/"
        },
        "id": "NfeptialKDFn",
        "outputId": "0896f80e-35e2-489c-c48d-05a5c135162a"
      },
      "source": [
        "data = np.array([9, 2 , 5.5 , 5, 4])\n",
        "rf_random.predict(data.reshape(1 , -1))"
      ],
      "execution_count": null,
      "outputs": [
        {
          "output_type": "execute_result",
          "data": {
            "text/plain": [
              "array([41.08860218])"
            ]
          },
          "metadata": {
            "tags": []
          },
          "execution_count": 187
        }
      ]
    },
    {
      "cell_type": "code",
      "metadata": {
        "id": "AT9okToRKHpf"
      },
      "source": [
        ""
      ],
      "execution_count": null,
      "outputs": []
    },
    {
      "cell_type": "code",
      "metadata": {
        "colab": {
          "base_uri": "https://localhost:8080/",
          "height": 419
        },
        "id": "0241AOaAN-zj",
        "outputId": "7bef7b89-0b5c-4df3-bbb4-b750b9361434"
      },
      "source": [
        "matches[matches[\"ball\"] == 5.5]"
      ],
      "execution_count": null,
      "outputs": [
        {
          "output_type": "execute_result",
          "data": {
            "text/html": [
              "<div>\n",
              "<style scoped>\n",
              "    .dataframe tbody tr th:only-of-type {\n",
              "        vertical-align: middle;\n",
              "    }\n",
              "\n",
              "    .dataframe tbody tr th {\n",
              "        vertical-align: top;\n",
              "    }\n",
              "\n",
              "    .dataframe thead th {\n",
              "        text-align: right;\n",
              "    }\n",
              "</style>\n",
              "<table border=\"1\" class=\"dataframe\">\n",
              "  <thead>\n",
              "    <tr style=\"text-align: right;\">\n",
              "      <th></th>\n",
              "      <th>venue</th>\n",
              "      <th>innings</th>\n",
              "      <th>ball</th>\n",
              "      <th>batting_team</th>\n",
              "      <th>bowling_team</th>\n",
              "      <th>striker</th>\n",
              "      <th>non_striker</th>\n",
              "      <th>bowler</th>\n",
              "      <th>total_runs</th>\n",
              "      <th>cumulative</th>\n",
              "    </tr>\n",
              "  </thead>\n",
              "  <tbody>\n",
              "    <tr>\n",
              "      <th>34</th>\n",
              "      <td>9</td>\n",
              "      <td>1</td>\n",
              "      <td>5.5</td>\n",
              "      <td>0</td>\n",
              "      <td>3</td>\n",
              "      <td>136</td>\n",
              "      <td>140</td>\n",
              "      <td>35</td>\n",
              "      <td>1</td>\n",
              "      <td>47</td>\n",
              "    </tr>\n",
              "    <tr>\n",
              "      <th>161</th>\n",
              "      <td>9</td>\n",
              "      <td>2</td>\n",
              "      <td>5.5</td>\n",
              "      <td>3</td>\n",
              "      <td>0</td>\n",
              "      <td>149</td>\n",
              "      <td>102</td>\n",
              "      <td>126</td>\n",
              "      <td>2</td>\n",
              "      <td>56</td>\n",
              "    </tr>\n",
              "    <tr>\n",
              "      <th>282</th>\n",
              "      <td>9</td>\n",
              "      <td>1</td>\n",
              "      <td>5.5</td>\n",
              "      <td>5</td>\n",
              "      <td>0</td>\n",
              "      <td>179</td>\n",
              "      <td>235</td>\n",
              "      <td>126</td>\n",
              "      <td>4</td>\n",
              "      <td>46</td>\n",
              "    </tr>\n",
              "    <tr>\n",
              "      <th>406</th>\n",
              "      <td>9</td>\n",
              "      <td>2</td>\n",
              "      <td>5.5</td>\n",
              "      <td>0</td>\n",
              "      <td>5</td>\n",
              "      <td>224</td>\n",
              "      <td>140</td>\n",
              "      <td>73</td>\n",
              "      <td>0</td>\n",
              "      <td>42</td>\n",
              "    </tr>\n",
              "    <tr>\n",
              "      <th>523</th>\n",
              "      <td>15</td>\n",
              "      <td>1</td>\n",
              "      <td>5.5</td>\n",
              "      <td>5</td>\n",
              "      <td>4</td>\n",
              "      <td>239</td>\n",
              "      <td>235</td>\n",
              "      <td>59</td>\n",
              "      <td>0</td>\n",
              "      <td>31</td>\n",
              "    </tr>\n",
              "    <tr>\n",
              "      <th>...</th>\n",
              "      <td>...</td>\n",
              "      <td>...</td>\n",
              "      <td>...</td>\n",
              "      <td>...</td>\n",
              "      <td>...</td>\n",
              "      <td>...</td>\n",
              "      <td>...</td>\n",
              "      <td>...</td>\n",
              "      <td>...</td>\n",
              "      <td>...</td>\n",
              "    </tr>\n",
              "    <tr>\n",
              "      <th>73864</th>\n",
              "      <td>8</td>\n",
              "      <td>2</td>\n",
              "      <td>5.5</td>\n",
              "      <td>4</td>\n",
              "      <td>0</td>\n",
              "      <td>186</td>\n",
              "      <td>72</td>\n",
              "      <td>126</td>\n",
              "      <td>1</td>\n",
              "      <td>50</td>\n",
              "    </tr>\n",
              "    <tr>\n",
              "      <th>73988</th>\n",
              "      <td>13</td>\n",
              "      <td>1</td>\n",
              "      <td>5.5</td>\n",
              "      <td>2</td>\n",
              "      <td>4</td>\n",
              "      <td>222</td>\n",
              "      <td>18</td>\n",
              "      <td>109</td>\n",
              "      <td>2</td>\n",
              "      <td>38</td>\n",
              "    </tr>\n",
              "    <tr>\n",
              "      <th>74111</th>\n",
              "      <td>13</td>\n",
              "      <td>2</td>\n",
              "      <td>5.5</td>\n",
              "      <td>4</td>\n",
              "      <td>2</td>\n",
              "      <td>34</td>\n",
              "      <td>8</td>\n",
              "      <td>137</td>\n",
              "      <td>0</td>\n",
              "      <td>32</td>\n",
              "    </tr>\n",
              "    <tr>\n",
              "      <th>74661</th>\n",
              "      <td>19</td>\n",
              "      <td>1</td>\n",
              "      <td>5.5</td>\n",
              "      <td>2</td>\n",
              "      <td>4</td>\n",
              "      <td>222</td>\n",
              "      <td>125</td>\n",
              "      <td>195</td>\n",
              "      <td>0</td>\n",
              "      <td>37</td>\n",
              "    </tr>\n",
              "    <tr>\n",
              "      <th>74789</th>\n",
              "      <td>19</td>\n",
              "      <td>2</td>\n",
              "      <td>5.5</td>\n",
              "      <td>4</td>\n",
              "      <td>2</td>\n",
              "      <td>234</td>\n",
              "      <td>72</td>\n",
              "      <td>193</td>\n",
              "      <td>0</td>\n",
              "      <td>64</td>\n",
              "    </tr>\n",
              "  </tbody>\n",
              "</table>\n",
              "<p>408 rows × 10 columns</p>\n",
              "</div>"
            ],
            "text/plain": [
              "       venue  innings  ball  ...  bowler  total_runs  cumulative\n",
              "34         9        1   5.5  ...      35           1          47\n",
              "161        9        2   5.5  ...     126           2          56\n",
              "282        9        1   5.5  ...     126           4          46\n",
              "406        9        2   5.5  ...      73           0          42\n",
              "523       15        1   5.5  ...      59           0          31\n",
              "...      ...      ...   ...  ...     ...         ...         ...\n",
              "73864      8        2   5.5  ...     126           1          50\n",
              "73988     13        1   5.5  ...     109           2          38\n",
              "74111     13        2   5.5  ...     137           0          32\n",
              "74661     19        1   5.5  ...     195           0          37\n",
              "74789     19        2   5.5  ...     193           0          64\n",
              "\n",
              "[408 rows x 10 columns]"
            ]
          },
          "metadata": {
            "tags": []
          },
          "execution_count": 185
        }
      ]
    },
    {
      "cell_type": "code",
      "metadata": {
        "id": "lmGDQD8lON1N"
      },
      "source": [
        "# mid,       date,       venue,       bat_team,       bowl_team,      batsman,          bowler,         runs,     wickets,          overs,        runs_last_5,           wickets_last_5,            striker,             non-striker,               total"
      ],
      "execution_count": null,
      "outputs": []
    },
    {
      "cell_type": "code",
      "metadata": {
        "id": "J432xGqXYq_D"
      },
      "source": [
        "# 1,       2008-04-18,   M Chin ,    Kolkata Kni,   Royal Challen B,   SC Ganguly,      P Kumar,                        1,         0,               0.1,              1,                      0,                      0,                     0,                         222"
      ],
      "execution_count": null,
      "outputs": []
    }
  ]
}